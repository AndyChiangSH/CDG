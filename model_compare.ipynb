{
 "cells": [
  {
   "cell_type": "markdown",
   "metadata": {},
   "source": [
    "# 模型比較"
   ]
  },
  {
   "cell_type": "markdown",
   "metadata": {},
   "source": [
    "## Demo questions\n",
    "\n",
    "* q1 ~ q10 取自CLOTH資料集，名詞2個，動詞3個，形容詞3個，副詞2個\n",
    "* q11 ~ q20 取自DGen資料集，名詞8個，形容詞1個，數量詞1個\n",
    "* q21 ~ q23 取自網路文章"
   ]
  },
  {
   "cell_type": "code",
   "execution_count": 1,
   "metadata": {},
   "outputs": [],
   "source": [
    "questions = {\n",
    "    \"q1\": {\n",
    "        \"sentence\": \"To make Jane live a [MASK] life, Mother was very careful about spending money. [SEP] happy\",\n",
    "        \"answer\": \"happy\",\n",
    "        \"distractors\": [\"poor\", \"busy\", \"sad\"]\n",
    "    },\n",
    "    \"q2\": {\n",
    "        \"sentence\": \"[MASK] , Jane didn't understand her. [SEP] However\",\n",
    "        \"answer\": \"However\",\n",
    "        \"distractors\": [\"Though\", \"Although\", \"Or\"]\n",
    "    },\n",
    "    \"q3\": {\n",
    "        \"sentence\": \"Every day Mother was busy with her [MASK] while Jane was studying at school, so they had little time to enjoy themselves. [SEP] work\",\n",
    "        \"answer\": \"work\",\n",
    "        \"distractors\": [\"writing\", \"housework\", \"research\"]\n",
    "    },\n",
    "    \"q4\": {\n",
    "        \"sentence\": \"One day, Mother realized Jane was unhappy and even [MASK] to her. [SEP] unfriendly\",\n",
    "        \"answer\": \"unfriendly\",\n",
    "        \"distractors\": [\"loyal\", \"kind\", \"cruel\"]\n",
    "    },\n",
    "    \"q5\": {\n",
    "        \"sentence\": \"The old man was waiting for a ride across the [MASK] . [SEP] river\",\n",
    "        \"answer\": \"river\",\n",
    "        \"distractors\": [\"town\", \"country\", \"island\"]\n",
    "    },\n",
    "    \"q6\": {\n",
    "        \"sentence\": \"I felt uncomfortable and out of place as the professor carefully [MASK] what she expected us to learn. [SEP] explained\",\n",
    "        \"answer\": \"explained\",\n",
    "        \"distractors\": [\"showed\", \"designed\", \"offered\"]\n",
    "    },\n",
    "    \"q7\": {\n",
    "        \"sentence\": \"As I listened, I couldn't help but [MASK] of my own oldest daughter. [SEP] think\",\n",
    "        \"answer\": \"think\",\n",
    "        \"distractors\": [\"speak\", \"talk\", \"hear\"]\n",
    "    },\n",
    "    \"q8\": {\n",
    "        \"sentence\": \"As we were [MASK] on the third floor for old people with Alzheimer, most of them stared off at the walls or floor. [SEP] singing\",\n",
    "        \"answer\": \"singing\",\n",
    "        \"distractors\": [\"meeting\", \"gathering\", \"dancing\"]\n",
    "    },\n",
    "    \"q9\": {\n",
    "        \"sentence\": \"As we got [MASK] with each song, she did as well. [SEP] louder\",\n",
    "        \"answer\": \"louder\",\n",
    "        \"distractors\": [\"higher\", \"nearer\", \"faster\"]\n",
    "    },\n",
    "    \"q10\": {\n",
    "        \"sentence\": \"Mr. Petri,  _   injured in the fire, was rushed to hospital. [SEP] seriously\",\n",
    "        \"answer\": \"seriously\",\n",
    "        \"distractors\": [\"blindly\", \"hardly\", \"slightly\"]\n",
    "    },\n",
    "    \"q11\": {\n",
    "        \"sentence\": \"If an object is attracted to a magnet, the object is most likely made of [MASK]. [SEP] metal\",\n",
    "        \"answer\": \"metal\",\n",
    "        \"distractors\": [\"wood\", \"plastic\", \"cardboard\"]\n",
    "    },\n",
    "    \"q12\": {\n",
    "        \"sentence\": \"the main organs of the respiratory system are [MASK]. [SEP] lungs\",\n",
    "        \"answer\": \"lungs\",\n",
    "        \"distractors\": [\"ovaries\", \"intestines\", \"kidneys\"]\n",
    "    },\n",
    "    \"q13\": {\n",
    "        \"sentence\": \"The products of photosynthesis are glucose and [MASK] else. [SEP] oxygen\",\n",
    "        \"answer\": \"oxygen\",\n",
    "        \"distractors\": [\"carbon\", \"hydrogen\", \"nitrogen\"]\n",
    "    },\n",
    "    \"q14\": {\n",
    "        \"sentence\": \"frogs have [MASK] eyelid membranes. [SEP] three\",\n",
    "        \"answer\": \"three\",\n",
    "        \"distractors\": [\"two\", \"four\", \"one\"]\n",
    "    },\n",
    "    \"q15\": {\n",
    "        \"sentence\": \"the only known planet with large amounts of water is [MASK]. [SEP] earth\",\n",
    "        \"answer\": \"earth\",\n",
    "        \"distractors\": [\"saturn\", \"jupiter\", \"mars\"]\n",
    "    },\n",
    "    \"q16\": {\n",
    "        \"sentence\": \"[MASK] is responsible for erosion by flowing water and glaciers. [SEP] gravity\",\n",
    "        \"answer\": \"gravity\",\n",
    "        \"distractors\": [\"kinetic\", \"electromagnetic\", \"weight\"],\n",
    "    },\n",
    "    \"q17\": {\n",
    "        \"sentence\": \"Common among mammals and insects , pheromones are often related to [MASK] type of behavior. [SEP] reproductive\",\n",
    "        \"answer\": \"reproductive\",\n",
    "        \"distractors\": [\"aggressive\", \"immune\", \"cardiac\"]\n",
    "    },\n",
    "    \"q18\": {\n",
    "        \"sentence\": \"[MASK] can reproduce by infecting the cell of a living host. [SEP] virus\",\n",
    "        \"answer\": \"virus\",\n",
    "        \"distractors\": [\"bacteria\", \"mucus\", \"carcinogens\"]\n",
    "    },\n",
    "    \"q19\": {\n",
    "        \"sentence\": \"proteins are encoded by [MASK]. [SEP] genes\",\n",
    "        \"answer\": \"genes\",\n",
    "        \"distractors\": [\"DNA\", \"RNA\", \"codons\"]\n",
    "    },\n",
    "    \"q20\": {\n",
    "        \"sentence\": \"Producers at the base of ecological food webs are also known as [MASK]. [SEP] autotrophic\",\n",
    "        \"answer\": \"autotrophic\",\n",
    "        \"distractors\": [\"endoscopic\", \"symbiotic\", \"mutualistic\"],\n",
    "    },\n",
    "    \"q21\": {\n",
    "        \"sentence\": \"Today morning, I saw a [MASK] sitting on the wall. [SEP] cat\",\n",
    "        \"answer\": \"cat\",\n",
    "        \"distractors\": [],\n",
    "    },\n",
    "    \"q22\": {\n",
    "        \"sentence\": \"Ukrainian presidential adviser says situation is ' [MASK] control' in suburbs and outskirts of Kyiv. [SEP] under\",\n",
    "        \"answer\": \"under\",\n",
    "        \"distractors\": [],\n",
    "    },\n",
    "    \"q23\": {\n",
    "        \"sentence\": \"I don't think that after what is [MASK] now, Ukraine has weak positions. [SEP] happening\",\n",
    "        \"answer\": \"happening\",\n",
    "        \"distractors\": [],\n",
    "    },\n",
    "}"
   ]
  },
  {
   "cell_type": "markdown",
   "metadata": {
    "id": "cKtTacFszaFj"
   },
   "source": [
    "## 引用相關套件"
   ]
  },
  {
   "cell_type": "code",
   "execution_count": 2,
   "metadata": {
    "id": "ry86IFrPzbn4"
   },
   "outputs": [],
   "source": [
    "from tqdm.notebook import tqdm\n",
    "import os"
   ]
  },
  {
   "cell_type": "markdown",
   "metadata": {
    "id": "GolSA9-MVXox"
   },
   "source": [
    "## Load models"
   ]
  },
  {
   "cell_type": "markdown",
   "metadata": {},
   "source": [
    "### BERT_CLOTH_model: BERT + CLOTH"
   ]
  },
  {
   "cell_type": "code",
   "execution_count": 11,
   "metadata": {
    "colab": {
     "base_uri": "https://localhost:8080/",
     "height": 1000,
     "referenced_widgets": [
      "13a6bbca8fe44a96a8265390874d0cc3",
      "760af93c66484f75b5698af259c96d6c",
      "5dfdb6ed6ea04b50b489432798d70555",
      "75c0744f5df244e29dff4a90e3e2460f",
      "394dae1a42dc4de888d898855309eeac",
      "9df003cfce844e629fcb9a149d735731",
      "09d6a08bc4ff4e1c9db722171c092247",
      "265b43d0e7134abbacb8693a2c6387da",
      "d1cbd3beb71a4903b30573e9dd8c3554",
      "765099c25ee64eafaab26ae21534417d",
      "e44caa4f83594150a69110c5c9612706",
      "604d98e8d1994ed7a7ab31f15e572cce",
      "d54d9712c56f4fbf9b08fa9222bb1ea9",
      "723dbc96fab04b9a94d6b8ba4cc96f74",
      "b88dea4099cc4d43a8b8315fe9bc8eb3",
      "4a0dd0b2bb074f23a6d2b634a134c233",
      "d3422d6801414024a0f8f7a65548d2b9",
      "94c5ecd282a74afdbf0539d8f717ea5c",
      "68edf999a09e4bffae1260c31bd7a9bc",
      "45088d1a68024956869c026c57f7595d",
      "869b00af41184c5f842f2630ea28cf2a",
      "b43c1f52f2dd497c8e8de5d46e1b2e99",
      "d17c9387fcbd40408a8da94e14dc15e6",
      "b7410d9320be4d0cab120d1cbcf53d2f",
      "971ebe8183e74dd5afe9e669436d8827",
      "18185801a4184d2fa0f0a3a408ce52f4",
      "862da95861ce4610a5e6299be33cddce",
      "4cc0a6159ee4424abdc2d7470bfa2bee",
      "bd1bd2cd6d8542f9bb724bbe4decc662",
      "c2fc82e1756b4d06bb62b0403e7ccfee",
      "b200f61879354d4780955f0c70415fd6",
      "57419a3899a24cad8bb50ff3abd53eea",
      "317ed13a365d432f9024d60a0db890c5"
     ]
    },
    "id": "9rIV2AAly0U_",
    "outputId": "37932414-d4cf-43d2-814d-06abf4ac4165"
   },
   "outputs": [],
   "source": [
    "from transformers import BertTokenizer, BertConfig, BertForMaskedLM, pipeline\n",
    "\n",
    "dir_path = r\"./models/CSG/BERT_CLOTH_model\"\n",
    "\n",
    "tokenizer = BertTokenizer.from_pretrained('bert-base-uncased')\n",
    "config = BertConfig.from_pretrained(os.path.join(dir_path, \"config.json\"))\n",
    "csg_model1 = BertForMaskedLM.from_pretrained(os.path.join(dir_path, \"pytorch_model.bin\"), from_tf=bool('.ckpt' in 'bert-base-uncased'), config=config)\n",
    "csg_model1.eval()\n",
    "\n",
    "unmasker1 = pipeline('fill-mask', tokenizer=tokenizer, config=config, model=csg_model1, top_k=10)"
   ]
  },
  {
   "cell_type": "markdown",
   "metadata": {},
   "source": [
    "### BERT_DGen_model: BERT + DGen"
   ]
  },
  {
   "cell_type": "code",
   "execution_count": 12,
   "metadata": {},
   "outputs": [],
   "source": [
    "from transformers import BertTokenizer, BertConfig, BertForMaskedLM, pipeline\n",
    "\n",
    "dir_path = r\"./models/CSG/BERT_DGen_model1\"\n",
    "\n",
    "tokenizer = BertTokenizer.from_pretrained('bert-base-uncased')\n",
    "config = BertConfig.from_pretrained(os.path.join(dir_path, \"config.json\"))\n",
    "csg_model2 = BertForMaskedLM.from_pretrained(os.path.join(dir_path, \"pytorch_model.bin\"), from_tf=bool('.ckpt' in 'bert-base-uncased'), config=config)\n",
    "csg_model2.eval()\n",
    "\n",
    "unmasker2 = pipeline('fill-mask', tokenizer=tokenizer, config=config, model=csg_model2, top_k=10)"
   ]
  },
  {
   "cell_type": "markdown",
   "metadata": {},
   "source": [
    "## Compare"
   ]
  },
  {
   "cell_type": "code",
   "execution_count": 45,
   "metadata": {},
   "outputs": [],
   "source": [
    "question_num = \"q13\""
   ]
  },
  {
   "cell_type": "code",
   "execution_count": 46,
   "metadata": {},
   "outputs": [
    {
     "name": "stdout",
     "output_type": "stream",
     "text": [
      "answer: oxygen\n",
      "dis: ['carbon', 'hydrogen', 'nitrogen']\n",
      "cs1: ['water', 'something', 'everything', 'sugar', 'oxygen', 'energy', 'gas', 'anything', 'air', 'food']\n",
      "cs2: ['water', 'glucose', 'nitrogen', 'oxygen', 'sugar', 'light', 'carbon', 'hydrogen', 'energy', 'proteins']\n"
     ]
    }
   ],
   "source": [
    "answer = questions[question_num][\"answer\"].lower()\n",
    "dis = [d.lower() for d in questions[question_num][\"distractors\"]]\n",
    "\n",
    "cs1 = list()\n",
    "for cand in unmasker1(questions[question_num][\"sentence\"]):\n",
    "    cs1.append(cand[\"token_str\"].replace(\" \", \"\"))\n",
    "\n",
    "cs2 = list()\n",
    "for cand in unmasker2(questions[question_num][\"sentence\"]):\n",
    "    cs2.append(cand[\"token_str\"].replace(\" \", \"\"))\n",
    "\n",
    "print(\"answer:\", answer)\n",
    "print(\"dis:\", dis)\n",
    "print(\"cs1:\", cs1)\n",
    "print(\"cs2:\", cs2)"
   ]
  },
  {
   "cell_type": "code",
   "execution_count": 47,
   "metadata": {},
   "outputs": [
    {
     "name": "stdout",
     "output_type": "stream",
     "text": [
      "cs1_dis = 0\n",
      "cs2_dis = 3\n"
     ]
    }
   ],
   "source": [
    "cs1_dis = 0\n",
    "for c1 in cs1:\n",
    "    if c1 in dis:\n",
    "        cs1_dis += 1\n",
    "\n",
    "cs2_dis = 0\n",
    "for c2 in cs2:\n",
    "    if c2 in dis:\n",
    "        cs2_dis += 1\n",
    "\n",
    "print(\"cs1_dis =\", cs1_dis)\n",
    "print(\"cs2_dis =\", cs2_dis)"
   ]
  },
  {
   "cell_type": "code",
   "execution_count": 48,
   "metadata": {},
   "outputs": [
    {
     "name": "stdout",
     "output_type": "stream",
     "text": [
      "cs1_ans = 1\n",
      "cs2_ans = 1\n"
     ]
    }
   ],
   "source": [
    "cs1_ans = 0\n",
    "for c1 in cs1:\n",
    "    if c1 == answer:\n",
    "        cs1_ans += 1\n",
    "\n",
    "cs2_ans = 0\n",
    "for c2 in cs2:\n",
    "    if c2 == answer:\n",
    "        cs2_ans += 1\n",
    "\n",
    "print(\"cs1_ans =\", cs1_ans)\n",
    "print(\"cs2_ans =\", cs2_ans)"
   ]
  }
 ],
 "metadata": {
  "interpreter": {
   "hash": "3922e3c97c651be36ae2a74450309ec6ba42b89c1b16d216f29ae45749fd04d5"
  },
  "kernelspec": {
   "display_name": "Python 3.8.8 ('CDG-env': venv)",
   "language": "python",
   "name": "python3"
  },
  "language_info": {
   "codemirror_mode": {
    "name": "ipython",
    "version": 3
   },
   "file_extension": ".py",
   "mimetype": "text/x-python",
   "name": "python",
   "nbconvert_exporter": "python",
   "pygments_lexer": "ipython3",
   "version": "3.8.8"
  },
  "orig_nbformat": 4
 },
 "nbformat": 4,
 "nbformat_minor": 2
}

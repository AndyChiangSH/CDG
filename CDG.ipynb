{
  "cells": [
    {
      "cell_type": "markdown",
      "metadata": {
        "id": "t1wc1ZujyMNh"
      },
      "source": [
        "# 克漏字干擾選項生成"
      ]
    },
    {
      "cell_type": "markdown",
      "metadata": {},
      "source": [
        "## Demo questions\n",
        "\n",
        "* q1 ~ q10 取自CLOTH資料集，名詞2個，動詞3個，形容詞3個，副詞2個\n",
        "* q11 ~ q20 取自DGen資料集，名詞8個，形容詞1個，數量詞1個\n",
        "* q21 ~ q23 取自網路文章"
      ]
    },
    {
      "cell_type": "code",
      "execution_count": 5,
      "metadata": {},
      "outputs": [],
      "source": [
        "questions = {\n",
        "    \"q1\": {\n",
        "        \"sentence\": \"To make Jane live a [MASK] life, Mother was very careful about spending money. [SEP] happy\",\n",
        "        \"answer\": \"happy\",\n",
        "        \"distractors\": [\"poor\", \"busy\", \"sad\"]\n",
        "    },\n",
        "    \"q2\": {\n",
        "        \"sentence\": \"[MASK] , Jane didn't understand her. [SEP] However\",\n",
        "        \"answer\": \"However\",\n",
        "        \"distractors\": [\"Though\", \"Although\", \"Or\"]\n",
        "    },\n",
        "    \"q3\": {\n",
        "        \"sentence\": \"Every day Mother was busy with her [MASK] while Jane was studying at school, so they had little time to enjoy themselves. [SEP] work\",\n",
        "        \"answer\": \"work\",\n",
        "        \"distractors\": [\"writing\", \"housework\", \"research\"]\n",
        "    },\n",
        "    \"q4\": {\n",
        "        \"sentence\": \"One day, Mother realized Jane was unhappy and even [MASK] to her. [SEP] unfriendly\",\n",
        "        \"answer\": \"unfriendly\",\n",
        "        \"distractors\": [\"loyal\", \"kind\", \"cruel\"]\n",
        "    },\n",
        "    \"q5\": {\n",
        "        \"sentence\": \"The old man was waiting for a ride across the [MASK] . [SEP] river\",\n",
        "        \"answer\": \"river\",\n",
        "        \"distractors\": [\"town\", \"country\", \"island\"]\n",
        "    },\n",
        "    \"q6\": {\n",
        "        \"sentence\": \"I felt uncomfortable and out of place as the professor carefully [MASK] what she expected us to learn. [SEP] explained\",\n",
        "        \"answer\": \"explained\",\n",
        "        \"distractors\": [\"showed\", \"designed\", \"offered\"]\n",
        "    },\n",
        "    \"q7\": {\n",
        "        \"sentence\": \"As I listened, I couldn't help but [MASK] of my own oldest daughter. [SEP] think\",\n",
        "        \"answer\": \"think\",\n",
        "        \"distractors\": [\"speak\", \"talk\", \"hear\"]\n",
        "    },\n",
        "    \"q8\": {\n",
        "        \"sentence\": \"As we were [MASK] on the third floor for old people with Alzheimer, most of them stared off at the walls or floor. [SEP] singing\",\n",
        "        \"answer\": \"singing\",\n",
        "        \"distractors\": [\"meeting\", \"gathering\", \"dancing\"]\n",
        "    },\n",
        "    \"q9\": {\n",
        "        \"sentence\": \"As we got [MASK] with each song, she did as well. [SEP] louder\",\n",
        "        \"answer\": \"louder\",\n",
        "        \"distractors\": [\"higher\", \"nearer\", \"faster\"]\n",
        "    },\n",
        "    \"q10\": {\n",
        "        \"sentence\": \"Mr. Petri,  _   injured in the fire, was rushed to hospital. [SEP] seriously\",\n",
        "        \"answer\": \"seriously\",\n",
        "        \"distractors\": [\"blindly\", \"hardly\", \"slightly\"]\n",
        "    },\n",
        "    \"q11\": {\n",
        "        \"sentence\": \"If an object is attracted to a magnet, the object is most likely made of [MASK]. [SEP] metal\",\n",
        "        \"answer\": \"metal\",\n",
        "        \"distractors\": [\"wood\", \"plastic\", \"cardboard\"]\n",
        "    },\n",
        "    \"q12\": {\n",
        "        \"sentence\": \"the main organs of the respiratory system are [MASK]. [SEP] lungs\",\n",
        "        \"answer\": \"lungs\",\n",
        "        \"distractors\": [\"ovaries\", \"intestines\", \"kidneys\"]\n",
        "    },\n",
        "    \"q13\": {\n",
        "        \"sentence\": \"The products of photosynthesis are glucose and [MASK] else. [SEP] oxygen\",\n",
        "        \"answer\": \"oxygen\",\n",
        "        \"distractors\": [\"carbon\", \"hydrogen\", \"nitrogen\"]\n",
        "    },\n",
        "    \"q14\": {\n",
        "        \"sentence\": \"frogs have [MASK] eyelid membranes. [SEP] three\",\n",
        "        \"answer\": \"three\",\n",
        "        \"distractors\": [\"two\", \"four\", \"one\"]\n",
        "    },\n",
        "    \"q15\": {\n",
        "        \"sentence\": \"the only known planet with large amounts of water is [MASK]. [SEP] earth\",\n",
        "        \"answer\": \"earth\",\n",
        "        \"distractors\": [\"saturn\", \"jupiter\", \"mars\"]\n",
        "    },\n",
        "    \"q16\": {\n",
        "        \"sentence\": \"[MASK] is responsible for erosion by flowing water and glaciers. [SEP] gravity\",\n",
        "        \"answer\": \"gravity\",\n",
        "        \"distractors\": [\"kinetic\", \"electromagnetic\", \"weight\"],\n",
        "    },\n",
        "    \"q17\": {\n",
        "        \"sentence\": \"Common among mammals and insects , pheromones are often related to [MASK] type of behavior. [SEP] reproductive\",\n",
        "        \"answer\": \"reproductive\",\n",
        "        \"distractors\": [\"aggressive\", \"immune\", \"cardiac\"]\n",
        "    },\n",
        "    \"q18\": {\n",
        "        \"sentence\": \"[MASK] can reproduce by infecting the cell of a living host. [SEP] virus\",\n",
        "        \"answer\": \"virus\",\n",
        "        \"distractors\": [\"bacteria\", \"mucus\", \"carcinogens\"]\n",
        "    },\n",
        "    \"q19\": {\n",
        "        \"sentence\": \"proteins are encoded by [MASK]. [SEP] genes\",\n",
        "        \"answer\": \"genes\",\n",
        "        \"distractors\": [\"DNA\", \"RNA\", \"codons\"]\n",
        "    },\n",
        "    \"q20\": {\n",
        "        \"sentence\": \"Producers at the base of ecological food webs are also known as [MASK]. [SEP] autotrophic\",\n",
        "        \"answer\": \"autotrophic\",\n",
        "        \"distractors\": [\"endoscopic\", \"symbiotic\", \"mutualistic\"],\n",
        "    },\n",
        "    \"q21\": {\n",
        "        \"sentence\": \"Today morning, I saw a [MASK] sitting on the wall. [SEP] cat\",\n",
        "        \"answer\": \"cat\",\n",
        "        \"distractors\": [],\n",
        "    },\n",
        "    \"q22\": {\n",
        "        \"sentence\": \"Ukrainian presidential adviser says situation is ' [MASK] control' in suburbs and outskirts of Kyiv. [SEP] under\",\n",
        "        \"answer\": \"under\",\n",
        "        \"distractors\": [],\n",
        "    },\n",
        "    \"q23\": {\n",
        "        \"sentence\": \"I don't think that after what is [MASK] now, Ukraine has weak positions. [SEP] happening\",\n",
        "        \"answer\": \"happening\",\n",
        "        \"distractors\": [],\n",
        "    },\n",
        "}"
      ]
    },
    {
      "cell_type": "markdown",
      "metadata": {
        "id": "8aEwIB94yuVn"
      },
      "source": [
        "## Candidate Set Generator (CSG)\n",
        "\n",
        "使用BERT預訓練模型，生成CS。"
      ]
    },
    {
      "cell_type": "markdown",
      "metadata": {
        "id": "cKtTacFszaFj"
      },
      "source": [
        "### 引用相關套件"
      ]
    },
    {
      "cell_type": "code",
      "execution_count": 3,
      "metadata": {
        "id": "ry86IFrPzbn4"
      },
      "outputs": [],
      "source": [
        "from tqdm.notebook import tqdm\n",
        "import os"
      ]
    },
    {
      "cell_type": "markdown",
      "metadata": {
        "id": "GolSA9-MVXox"
      },
      "source": [
        "### 載入CSG模型\n",
        "\n",
        "* BERT_model: BERT + 3 distractors"
      ]
    },
    {
      "cell_type": "code",
      "execution_count": 8,
      "metadata": {
        "colab": {
          "base_uri": "https://localhost:8080/",
          "height": 1000,
          "referenced_widgets": [
            "13a6bbca8fe44a96a8265390874d0cc3",
            "760af93c66484f75b5698af259c96d6c",
            "5dfdb6ed6ea04b50b489432798d70555",
            "75c0744f5df244e29dff4a90e3e2460f",
            "394dae1a42dc4de888d898855309eeac",
            "9df003cfce844e629fcb9a149d735731",
            "09d6a08bc4ff4e1c9db722171c092247",
            "265b43d0e7134abbacb8693a2c6387da",
            "d1cbd3beb71a4903b30573e9dd8c3554",
            "765099c25ee64eafaab26ae21534417d",
            "e44caa4f83594150a69110c5c9612706",
            "604d98e8d1994ed7a7ab31f15e572cce",
            "d54d9712c56f4fbf9b08fa9222bb1ea9",
            "723dbc96fab04b9a94d6b8ba4cc96f74",
            "b88dea4099cc4d43a8b8315fe9bc8eb3",
            "4a0dd0b2bb074f23a6d2b634a134c233",
            "d3422d6801414024a0f8f7a65548d2b9",
            "94c5ecd282a74afdbf0539d8f717ea5c",
            "68edf999a09e4bffae1260c31bd7a9bc",
            "45088d1a68024956869c026c57f7595d",
            "869b00af41184c5f842f2630ea28cf2a",
            "b43c1f52f2dd497c8e8de5d46e1b2e99",
            "d17c9387fcbd40408a8da94e14dc15e6",
            "b7410d9320be4d0cab120d1cbcf53d2f",
            "971ebe8183e74dd5afe9e669436d8827",
            "18185801a4184d2fa0f0a3a408ce52f4",
            "862da95861ce4610a5e6299be33cddce",
            "4cc0a6159ee4424abdc2d7470bfa2bee",
            "bd1bd2cd6d8542f9bb724bbe4decc662",
            "c2fc82e1756b4d06bb62b0403e7ccfee",
            "b200f61879354d4780955f0c70415fd6",
            "57419a3899a24cad8bb50ff3abd53eea",
            "317ed13a365d432f9024d60a0db890c5"
          ]
        },
        "id": "9rIV2AAly0U_",
        "outputId": "37932414-d4cf-43d2-814d-06abf4ac4165"
      },
      "outputs": [
        {
          "data": {
            "text/plain": [
              "BertForMaskedLM(\n",
              "  (bert): BertModel(\n",
              "    (embeddings): BertEmbeddings(\n",
              "      (word_embeddings): Embedding(31090, 768, padding_idx=0)\n",
              "      (position_embeddings): Embedding(512, 768)\n",
              "      (token_type_embeddings): Embedding(2, 768)\n",
              "      (LayerNorm): LayerNorm((768,), eps=1e-12, elementwise_affine=True)\n",
              "      (dropout): Dropout(p=0.1, inplace=False)\n",
              "    )\n",
              "    (encoder): BertEncoder(\n",
              "      (layer): ModuleList(\n",
              "        (0): BertLayer(\n",
              "          (attention): BertAttention(\n",
              "            (self): BertSelfAttention(\n",
              "              (query): Linear(in_features=768, out_features=768, bias=True)\n",
              "              (key): Linear(in_features=768, out_features=768, bias=True)\n",
              "              (value): Linear(in_features=768, out_features=768, bias=True)\n",
              "              (dropout): Dropout(p=0.1, inplace=False)\n",
              "            )\n",
              "            (output): BertSelfOutput(\n",
              "              (dense): Linear(in_features=768, out_features=768, bias=True)\n",
              "              (LayerNorm): LayerNorm((768,), eps=1e-12, elementwise_affine=True)\n",
              "              (dropout): Dropout(p=0.1, inplace=False)\n",
              "            )\n",
              "          )\n",
              "          (intermediate): BertIntermediate(\n",
              "            (dense): Linear(in_features=768, out_features=3072, bias=True)\n",
              "            (intermediate_act_fn): GELUActivation()\n",
              "          )\n",
              "          (output): BertOutput(\n",
              "            (dense): Linear(in_features=3072, out_features=768, bias=True)\n",
              "            (LayerNorm): LayerNorm((768,), eps=1e-12, elementwise_affine=True)\n",
              "            (dropout): Dropout(p=0.1, inplace=False)\n",
              "          )\n",
              "        )\n",
              "        (1): BertLayer(\n",
              "          (attention): BertAttention(\n",
              "            (self): BertSelfAttention(\n",
              "              (query): Linear(in_features=768, out_features=768, bias=True)\n",
              "              (key): Linear(in_features=768, out_features=768, bias=True)\n",
              "              (value): Linear(in_features=768, out_features=768, bias=True)\n",
              "              (dropout): Dropout(p=0.1, inplace=False)\n",
              "            )\n",
              "            (output): BertSelfOutput(\n",
              "              (dense): Linear(in_features=768, out_features=768, bias=True)\n",
              "              (LayerNorm): LayerNorm((768,), eps=1e-12, elementwise_affine=True)\n",
              "              (dropout): Dropout(p=0.1, inplace=False)\n",
              "            )\n",
              "          )\n",
              "          (intermediate): BertIntermediate(\n",
              "            (dense): Linear(in_features=768, out_features=3072, bias=True)\n",
              "            (intermediate_act_fn): GELUActivation()\n",
              "          )\n",
              "          (output): BertOutput(\n",
              "            (dense): Linear(in_features=3072, out_features=768, bias=True)\n",
              "            (LayerNorm): LayerNorm((768,), eps=1e-12, elementwise_affine=True)\n",
              "            (dropout): Dropout(p=0.1, inplace=False)\n",
              "          )\n",
              "        )\n",
              "        (2): BertLayer(\n",
              "          (attention): BertAttention(\n",
              "            (self): BertSelfAttention(\n",
              "              (query): Linear(in_features=768, out_features=768, bias=True)\n",
              "              (key): Linear(in_features=768, out_features=768, bias=True)\n",
              "              (value): Linear(in_features=768, out_features=768, bias=True)\n",
              "              (dropout): Dropout(p=0.1, inplace=False)\n",
              "            )\n",
              "            (output): BertSelfOutput(\n",
              "              (dense): Linear(in_features=768, out_features=768, bias=True)\n",
              "              (LayerNorm): LayerNorm((768,), eps=1e-12, elementwise_affine=True)\n",
              "              (dropout): Dropout(p=0.1, inplace=False)\n",
              "            )\n",
              "          )\n",
              "          (intermediate): BertIntermediate(\n",
              "            (dense): Linear(in_features=768, out_features=3072, bias=True)\n",
              "            (intermediate_act_fn): GELUActivation()\n",
              "          )\n",
              "          (output): BertOutput(\n",
              "            (dense): Linear(in_features=3072, out_features=768, bias=True)\n",
              "            (LayerNorm): LayerNorm((768,), eps=1e-12, elementwise_affine=True)\n",
              "            (dropout): Dropout(p=0.1, inplace=False)\n",
              "          )\n",
              "        )\n",
              "        (3): BertLayer(\n",
              "          (attention): BertAttention(\n",
              "            (self): BertSelfAttention(\n",
              "              (query): Linear(in_features=768, out_features=768, bias=True)\n",
              "              (key): Linear(in_features=768, out_features=768, bias=True)\n",
              "              (value): Linear(in_features=768, out_features=768, bias=True)\n",
              "              (dropout): Dropout(p=0.1, inplace=False)\n",
              "            )\n",
              "            (output): BertSelfOutput(\n",
              "              (dense): Linear(in_features=768, out_features=768, bias=True)\n",
              "              (LayerNorm): LayerNorm((768,), eps=1e-12, elementwise_affine=True)\n",
              "              (dropout): Dropout(p=0.1, inplace=False)\n",
              "            )\n",
              "          )\n",
              "          (intermediate): BertIntermediate(\n",
              "            (dense): Linear(in_features=768, out_features=3072, bias=True)\n",
              "            (intermediate_act_fn): GELUActivation()\n",
              "          )\n",
              "          (output): BertOutput(\n",
              "            (dense): Linear(in_features=3072, out_features=768, bias=True)\n",
              "            (LayerNorm): LayerNorm((768,), eps=1e-12, elementwise_affine=True)\n",
              "            (dropout): Dropout(p=0.1, inplace=False)\n",
              "          )\n",
              "        )\n",
              "        (4): BertLayer(\n",
              "          (attention): BertAttention(\n",
              "            (self): BertSelfAttention(\n",
              "              (query): Linear(in_features=768, out_features=768, bias=True)\n",
              "              (key): Linear(in_features=768, out_features=768, bias=True)\n",
              "              (value): Linear(in_features=768, out_features=768, bias=True)\n",
              "              (dropout): Dropout(p=0.1, inplace=False)\n",
              "            )\n",
              "            (output): BertSelfOutput(\n",
              "              (dense): Linear(in_features=768, out_features=768, bias=True)\n",
              "              (LayerNorm): LayerNorm((768,), eps=1e-12, elementwise_affine=True)\n",
              "              (dropout): Dropout(p=0.1, inplace=False)\n",
              "            )\n",
              "          )\n",
              "          (intermediate): BertIntermediate(\n",
              "            (dense): Linear(in_features=768, out_features=3072, bias=True)\n",
              "            (intermediate_act_fn): GELUActivation()\n",
              "          )\n",
              "          (output): BertOutput(\n",
              "            (dense): Linear(in_features=3072, out_features=768, bias=True)\n",
              "            (LayerNorm): LayerNorm((768,), eps=1e-12, elementwise_affine=True)\n",
              "            (dropout): Dropout(p=0.1, inplace=False)\n",
              "          )\n",
              "        )\n",
              "        (5): BertLayer(\n",
              "          (attention): BertAttention(\n",
              "            (self): BertSelfAttention(\n",
              "              (query): Linear(in_features=768, out_features=768, bias=True)\n",
              "              (key): Linear(in_features=768, out_features=768, bias=True)\n",
              "              (value): Linear(in_features=768, out_features=768, bias=True)\n",
              "              (dropout): Dropout(p=0.1, inplace=False)\n",
              "            )\n",
              "            (output): BertSelfOutput(\n",
              "              (dense): Linear(in_features=768, out_features=768, bias=True)\n",
              "              (LayerNorm): LayerNorm((768,), eps=1e-12, elementwise_affine=True)\n",
              "              (dropout): Dropout(p=0.1, inplace=False)\n",
              "            )\n",
              "          )\n",
              "          (intermediate): BertIntermediate(\n",
              "            (dense): Linear(in_features=768, out_features=3072, bias=True)\n",
              "            (intermediate_act_fn): GELUActivation()\n",
              "          )\n",
              "          (output): BertOutput(\n",
              "            (dense): Linear(in_features=3072, out_features=768, bias=True)\n",
              "            (LayerNorm): LayerNorm((768,), eps=1e-12, elementwise_affine=True)\n",
              "            (dropout): Dropout(p=0.1, inplace=False)\n",
              "          )\n",
              "        )\n",
              "        (6): BertLayer(\n",
              "          (attention): BertAttention(\n",
              "            (self): BertSelfAttention(\n",
              "              (query): Linear(in_features=768, out_features=768, bias=True)\n",
              "              (key): Linear(in_features=768, out_features=768, bias=True)\n",
              "              (value): Linear(in_features=768, out_features=768, bias=True)\n",
              "              (dropout): Dropout(p=0.1, inplace=False)\n",
              "            )\n",
              "            (output): BertSelfOutput(\n",
              "              (dense): Linear(in_features=768, out_features=768, bias=True)\n",
              "              (LayerNorm): LayerNorm((768,), eps=1e-12, elementwise_affine=True)\n",
              "              (dropout): Dropout(p=0.1, inplace=False)\n",
              "            )\n",
              "          )\n",
              "          (intermediate): BertIntermediate(\n",
              "            (dense): Linear(in_features=768, out_features=3072, bias=True)\n",
              "            (intermediate_act_fn): GELUActivation()\n",
              "          )\n",
              "          (output): BertOutput(\n",
              "            (dense): Linear(in_features=3072, out_features=768, bias=True)\n",
              "            (LayerNorm): LayerNorm((768,), eps=1e-12, elementwise_affine=True)\n",
              "            (dropout): Dropout(p=0.1, inplace=False)\n",
              "          )\n",
              "        )\n",
              "        (7): BertLayer(\n",
              "          (attention): BertAttention(\n",
              "            (self): BertSelfAttention(\n",
              "              (query): Linear(in_features=768, out_features=768, bias=True)\n",
              "              (key): Linear(in_features=768, out_features=768, bias=True)\n",
              "              (value): Linear(in_features=768, out_features=768, bias=True)\n",
              "              (dropout): Dropout(p=0.1, inplace=False)\n",
              "            )\n",
              "            (output): BertSelfOutput(\n",
              "              (dense): Linear(in_features=768, out_features=768, bias=True)\n",
              "              (LayerNorm): LayerNorm((768,), eps=1e-12, elementwise_affine=True)\n",
              "              (dropout): Dropout(p=0.1, inplace=False)\n",
              "            )\n",
              "          )\n",
              "          (intermediate): BertIntermediate(\n",
              "            (dense): Linear(in_features=768, out_features=3072, bias=True)\n",
              "            (intermediate_act_fn): GELUActivation()\n",
              "          )\n",
              "          (output): BertOutput(\n",
              "            (dense): Linear(in_features=3072, out_features=768, bias=True)\n",
              "            (LayerNorm): LayerNorm((768,), eps=1e-12, elementwise_affine=True)\n",
              "            (dropout): Dropout(p=0.1, inplace=False)\n",
              "          )\n",
              "        )\n",
              "        (8): BertLayer(\n",
              "          (attention): BertAttention(\n",
              "            (self): BertSelfAttention(\n",
              "              (query): Linear(in_features=768, out_features=768, bias=True)\n",
              "              (key): Linear(in_features=768, out_features=768, bias=True)\n",
              "              (value): Linear(in_features=768, out_features=768, bias=True)\n",
              "              (dropout): Dropout(p=0.1, inplace=False)\n",
              "            )\n",
              "            (output): BertSelfOutput(\n",
              "              (dense): Linear(in_features=768, out_features=768, bias=True)\n",
              "              (LayerNorm): LayerNorm((768,), eps=1e-12, elementwise_affine=True)\n",
              "              (dropout): Dropout(p=0.1, inplace=False)\n",
              "            )\n",
              "          )\n",
              "          (intermediate): BertIntermediate(\n",
              "            (dense): Linear(in_features=768, out_features=3072, bias=True)\n",
              "            (intermediate_act_fn): GELUActivation()\n",
              "          )\n",
              "          (output): BertOutput(\n",
              "            (dense): Linear(in_features=3072, out_features=768, bias=True)\n",
              "            (LayerNorm): LayerNorm((768,), eps=1e-12, elementwise_affine=True)\n",
              "            (dropout): Dropout(p=0.1, inplace=False)\n",
              "          )\n",
              "        )\n",
              "        (9): BertLayer(\n",
              "          (attention): BertAttention(\n",
              "            (self): BertSelfAttention(\n",
              "              (query): Linear(in_features=768, out_features=768, bias=True)\n",
              "              (key): Linear(in_features=768, out_features=768, bias=True)\n",
              "              (value): Linear(in_features=768, out_features=768, bias=True)\n",
              "              (dropout): Dropout(p=0.1, inplace=False)\n",
              "            )\n",
              "            (output): BertSelfOutput(\n",
              "              (dense): Linear(in_features=768, out_features=768, bias=True)\n",
              "              (LayerNorm): LayerNorm((768,), eps=1e-12, elementwise_affine=True)\n",
              "              (dropout): Dropout(p=0.1, inplace=False)\n",
              "            )\n",
              "          )\n",
              "          (intermediate): BertIntermediate(\n",
              "            (dense): Linear(in_features=768, out_features=3072, bias=True)\n",
              "            (intermediate_act_fn): GELUActivation()\n",
              "          )\n",
              "          (output): BertOutput(\n",
              "            (dense): Linear(in_features=3072, out_features=768, bias=True)\n",
              "            (LayerNorm): LayerNorm((768,), eps=1e-12, elementwise_affine=True)\n",
              "            (dropout): Dropout(p=0.1, inplace=False)\n",
              "          )\n",
              "        )\n",
              "        (10): BertLayer(\n",
              "          (attention): BertAttention(\n",
              "            (self): BertSelfAttention(\n",
              "              (query): Linear(in_features=768, out_features=768, bias=True)\n",
              "              (key): Linear(in_features=768, out_features=768, bias=True)\n",
              "              (value): Linear(in_features=768, out_features=768, bias=True)\n",
              "              (dropout): Dropout(p=0.1, inplace=False)\n",
              "            )\n",
              "            (output): BertSelfOutput(\n",
              "              (dense): Linear(in_features=768, out_features=768, bias=True)\n",
              "              (LayerNorm): LayerNorm((768,), eps=1e-12, elementwise_affine=True)\n",
              "              (dropout): Dropout(p=0.1, inplace=False)\n",
              "            )\n",
              "          )\n",
              "          (intermediate): BertIntermediate(\n",
              "            (dense): Linear(in_features=768, out_features=3072, bias=True)\n",
              "            (intermediate_act_fn): GELUActivation()\n",
              "          )\n",
              "          (output): BertOutput(\n",
              "            (dense): Linear(in_features=3072, out_features=768, bias=True)\n",
              "            (LayerNorm): LayerNorm((768,), eps=1e-12, elementwise_affine=True)\n",
              "            (dropout): Dropout(p=0.1, inplace=False)\n",
              "          )\n",
              "        )\n",
              "        (11): BertLayer(\n",
              "          (attention): BertAttention(\n",
              "            (self): BertSelfAttention(\n",
              "              (query): Linear(in_features=768, out_features=768, bias=True)\n",
              "              (key): Linear(in_features=768, out_features=768, bias=True)\n",
              "              (value): Linear(in_features=768, out_features=768, bias=True)\n",
              "              (dropout): Dropout(p=0.1, inplace=False)\n",
              "            )\n",
              "            (output): BertSelfOutput(\n",
              "              (dense): Linear(in_features=768, out_features=768, bias=True)\n",
              "              (LayerNorm): LayerNorm((768,), eps=1e-12, elementwise_affine=True)\n",
              "              (dropout): Dropout(p=0.1, inplace=False)\n",
              "            )\n",
              "          )\n",
              "          (intermediate): BertIntermediate(\n",
              "            (dense): Linear(in_features=768, out_features=3072, bias=True)\n",
              "            (intermediate_act_fn): GELUActivation()\n",
              "          )\n",
              "          (output): BertOutput(\n",
              "            (dense): Linear(in_features=3072, out_features=768, bias=True)\n",
              "            (LayerNorm): LayerNorm((768,), eps=1e-12, elementwise_affine=True)\n",
              "            (dropout): Dropout(p=0.1, inplace=False)\n",
              "          )\n",
              "        )\n",
              "      )\n",
              "    )\n",
              "  )\n",
              "  (cls): BertOnlyMLMHead(\n",
              "    (predictions): BertLMPredictionHead(\n",
              "      (transform): BertPredictionHeadTransform(\n",
              "        (dense): Linear(in_features=768, out_features=768, bias=True)\n",
              "        (transform_act_fn): GELUActivation()\n",
              "        (LayerNorm): LayerNorm((768,), eps=1e-12, elementwise_affine=True)\n",
              "      )\n",
              "      (decoder): Linear(in_features=768, out_features=31090, bias=True)\n",
              "    )\n",
              "  )\n",
              ")"
            ]
          },
          "execution_count": 8,
          "metadata": {},
          "output_type": "execute_result"
        }
      ],
      "source": [
        "from transformers import BertTokenizer, BertConfig, BertForMaskedLM, pipeline\n",
        "\n",
        "dir_path = r\"./models/CSG/SciBERT_CLOTH&DGen_model1\"\n",
        "\n",
        "tokenizer = BertTokenizer.from_pretrained('allenai/scibert_scivocab_uncased')\n",
        "config = BertConfig.from_pretrained(os.path.join(dir_path, \"config.json\"))\n",
        "csg_model = BertForMaskedLM.from_pretrained(os.path.join(dir_path, \"pytorch_model.bin\"), config=config)\n",
        "csg_model.eval()"
      ]
    },
    {
      "cell_type": "code",
      "execution_count": 9,
      "metadata": {
        "id": "SOVuvEz-z9OB"
      },
      "outputs": [],
      "source": [
        "my_unmasker = pipeline('fill-mask', tokenizer=tokenizer, config=config, model=csg_model, top_k=10)"
      ]
    },
    {
      "cell_type": "code",
      "execution_count": 10,
      "metadata": {},
      "outputs": [
        {
          "data": {
            "text/plain": [
              "[{'score': 0.20817217230796814,\n",
              "  'token': 6337,\n",
              "  'token_str': 'w o o d',\n",
              "  'sequence': 'if an object is attracted to a magnet, the object is most likely made of wood. metal'},\n",
              " {'score': 0.1757989525794983,\n",
              "  'token': 6541,\n",
              "  'token_str': 'p l a s t i c',\n",
              "  'sequence': 'if an object is attracted to a magnet, the object is most likely made of plastic. metal'},\n",
              " {'score': 0.07271727919578552,\n",
              "  'token': 9946,\n",
              "  'token_str': 's i l v e r',\n",
              "  'sequence': 'if an object is attracted to a magnet, the object is most likely made of silver. metal'},\n",
              " {'score': 0.050051406025886536,\n",
              "  'token': 5860,\n",
              "  'token_str': 'g l a s s',\n",
              "  'sequence': 'if an object is attracted to a magnet, the object is most likely made of glass. metal'},\n",
              " {'score': 0.027145681902766228,\n",
              "  'token': 19278,\n",
              "  'token_str': 'c l o t h',\n",
              "  'sequence': 'if an object is attracted to a magnet, the object is most likely made of cloth. metal'},\n",
              " {'score': 0.026650292798876762,\n",
              "  'token': 5157,\n",
              "  'token_str': 'g o l d',\n",
              "  'sequence': 'if an object is attracted to a magnet, the object is most likely made of gold. metal'},\n",
              " {'score': 0.022366022691130638,\n",
              "  'token': 10735,\n",
              "  'token_str': 's t e e l',\n",
              "  'sequence': 'if an object is attracted to a magnet, the object is most likely made of steel. metal'},\n",
              " {'score': 0.016648564487695694,\n",
              "  'token': 1203,\n",
              "  'token_str': 'p a p e r',\n",
              "  'sequence': 'if an object is attracted to a magnet, the object is most likely made of paper. metal'},\n",
              " {'score': 0.016036195680499077,\n",
              "  'token': 4353,\n",
              "  'token_str': 'm e t a l',\n",
              "  'sequence': 'if an object is attracted to a magnet, the object is most likely made of metal. metal'},\n",
              " {'score': 0.015979208052158356,\n",
              "  'token': 21029,\n",
              "  'token_str': 's i l k',\n",
              "  'sequence': 'if an object is attracted to a magnet, the object is most likely made of silk. metal'}]"
            ]
          },
          "execution_count": 10,
          "metadata": {},
          "output_type": "execute_result"
        }
      ],
      "source": [
        "my_unmasker(questions[\"q11\"][\"sentence\"])"
      ]
    },
    {
      "cell_type": "markdown",
      "metadata": {
        "id": "zQB5RuFI1rB6"
      },
      "source": [
        "## Candidate Set (CS)\n",
        "\n",
        "* cs = 候選集合(單字&分數)\n",
        "* target_sent = 目標句子\n",
        "* origin_sent = 原始句子\n",
        "* answer = 答案"
      ]
    },
    {
      "cell_type": "code",
      "execution_count": 12,
      "metadata": {
        "colab": {
          "base_uri": "https://localhost:8080/"
        },
        "id": "RomjEX6nofJI",
        "outputId": "8f7e109b-efb9-457d-e9dc-20eaa03b1b02"
      },
      "outputs": [
        {
          "name": "stdout",
          "output_type": "stream",
          "text": [
            "If an object is attracted to a magnet, the object is most likely made of [MASK]. [SEP] metal\n"
          ]
        }
      ],
      "source": [
        "target_sent = questions[\"q11\"][\"sentence\"]\n",
        "print(target_sent)"
      ]
    },
    {
      "cell_type": "code",
      "execution_count": 13,
      "metadata": {
        "colab": {
          "base_uri": "https://localhost:8080/"
        },
        "id": "ZVCsDqzsp9iI",
        "outputId": "1f98ea16-aeaf-4aba-a0a9-7da22ec1dc65"
      },
      "outputs": [
        {
          "name": "stdout",
          "output_type": "stream",
          "text": [
            "If an object is attracted to a magnet, the object is most likely made of [MASK].\n"
          ]
        }
      ],
      "source": [
        "origin_sent = target_sent.split(\" [SEP] \")[0]\n",
        "print(origin_sent)"
      ]
    },
    {
      "cell_type": "code",
      "execution_count": 14,
      "metadata": {
        "colab": {
          "base_uri": "https://localhost:8080/"
        },
        "id": "odhAp6Pp4lio",
        "outputId": "b115e053-88cd-4137-f3f1-fad7bbd5c3f5"
      },
      "outputs": [
        {
          "name": "stdout",
          "output_type": "stream",
          "text": [
            "metal\n"
          ]
        }
      ],
      "source": [
        "answer = questions[\"q11\"][\"answer\"]\n",
        "print(answer)"
      ]
    },
    {
      "cell_type": "code",
      "execution_count": 15,
      "metadata": {
        "colab": {
          "base_uri": "https://localhost:8080/"
        },
        "id": "8p1ww9uD4k2m",
        "outputId": "c016a758-5cf1-444b-8b6a-705b2ae58b71"
      },
      "outputs": [
        {
          "name": "stdout",
          "output_type": "stream",
          "text": [
            "[{'word': 'wood', 's0': 0.20817217230796814, 's1': 0.0, 's2': 0.0, 's3': 0.0}, {'word': 'plastic', 's0': 0.1757989525794983, 's1': 0.0, 's2': 0.0, 's3': 0.0}, {'word': 'silver', 's0': 0.07271727919578552, 's1': 0.0, 's2': 0.0, 's3': 0.0}, {'word': 'glass', 's0': 0.050051406025886536, 's1': 0.0, 's2': 0.0, 's3': 0.0}, {'word': 'cloth', 's0': 0.027145681902766228, 's1': 0.0, 's2': 0.0, 's3': 0.0}, {'word': 'gold', 's0': 0.026650292798876762, 's1': 0.0, 's2': 0.0, 's3': 0.0}, {'word': 'steel', 's0': 0.022366022691130638, 's1': 0.0, 's2': 0.0, 's3': 0.0}, {'word': 'paper', 's0': 0.016648564487695694, 's1': 0.0, 's2': 0.0, 's3': 0.0}, {'word': 'metal', 's0': 0.016036195680499077, 's1': 0.0, 's2': 0.0, 's3': 0.0}, {'word': 'silk', 's0': 0.015979208052158356, 's1': 0.0, 's2': 0.0, 's3': 0.0}]\n"
          ]
        }
      ],
      "source": [
        "cs = list()\n",
        "\n",
        "for cand in my_unmasker(target_sent):\n",
        "    cs.append({\"word\": cand[\"token_str\"].replace(\" \", \"\"), \"s0\": cand[\"score\"], \"s1\": 0.0, \"s2\": 0.0, \"s3\": 0.0})\n",
        "\n",
        "print(cs)"
      ]
    },
    {
      "cell_type": "markdown",
      "metadata": {
        "id": "5fmS9vqDbUFG"
      },
      "source": [
        "## Distractor Selector (DS)\n",
        "\n",
        "四種評分標準：\n",
        "\n",
        "1. 單字相似度：和答案越接近，分數越低\n",
        "2. 句子相似度：和答案的句子越接近，分數越低\n",
        "3. 詞性相似度：和答案詞性相同，分數越高\n",
        "4. 型態相似度(skip!)：字串長度相同、字首字尾相同，分數越高"
      ]
    },
    {
      "cell_type": "markdown",
      "metadata": {
        "id": "X8N86qMGqJiE"
      },
      "source": [
        "### 載入fastText模型"
      ]
    },
    {
      "cell_type": "code",
      "execution_count": 16,
      "metadata": {
        "colab": {
          "base_uri": "https://localhost:8080/"
        },
        "id": "Ui8Oo1Eoqc5M",
        "outputId": "3ad1e228-8b0b-4d44-fae4-b4f8c83d89dc"
      },
      "outputs": [
        {
          "name": "stderr",
          "output_type": "stream",
          "text": [
            "Warning : `load_model` does not return WordVectorModel or SupervisedModel any more, but a `FastText` object which is very similar.\n"
          ]
        }
      ],
      "source": [
        "import fasttext\n",
        "import warnings\n",
        "\n",
        "model_path = r\"./models/DS/fasttext_model/wiki_en_ft_model01.bin\"\n",
        "\n",
        "ds_model = fasttext.load_model(model_path)\n",
        "warnings.filterwarnings(\"ignore\", category=FutureWarning)"
      ]
    },
    {
      "cell_type": "markdown",
      "metadata": {
        "id": "WOZTGiISqiCO"
      },
      "source": [
        "### 兩向量距離公式(cosine similarity)"
      ]
    },
    {
      "cell_type": "code",
      "execution_count": 17,
      "metadata": {
        "id": "7Fi7Y7bpq01A"
      },
      "outputs": [],
      "source": [
        "import numpy as np\n",
        "\n",
        "def similarity(v1, v2):\n",
        "    n1 = np.linalg.norm(v1)\n",
        "    n2 = np.linalg.norm(v2)\n",
        "    return np.dot(v1, v2) / n1 / n2"
      ]
    },
    {
      "cell_type": "markdown",
      "metadata": {
        "id": "uOprpwJPf5eq"
      },
      "source": [
        "### 資料標準化"
      ]
    },
    {
      "cell_type": "markdown",
      "metadata": {
        "id": "99Mxtt4hgBr2"
      },
      "source": [
        "#### Min-Max"
      ]
    },
    {
      "cell_type": "code",
      "execution_count": 18,
      "metadata": {
        "id": "eDQCpfX0-xYM"
      },
      "outputs": [],
      "source": [
        "# Min-Max 歸一化\n",
        "def min_max_y(raw_data):\n",
        "  # 裝進標準化後的新串列\n",
        "  min_max_data = []\n",
        "  \n",
        "  # 進行Min-Max標準化\n",
        "  for d in raw_data:\n",
        "    min_max_data.append((d - min(raw_data)) / (max(raw_data) - min(raw_data)))\n",
        "             \n",
        "  # 回傳結果\n",
        "  return min_max_data"
      ]
    },
    {
      "cell_type": "markdown",
      "metadata": {
        "id": "LzmYNKL_gEjc"
      },
      "source": [
        "#### Z-Score"
      ]
    },
    {
      "cell_type": "code",
      "execution_count": 35,
      "metadata": {
        "id": "K4Z3qZWk-AKR"
      },
      "outputs": [],
      "source": [
        "import math\n",
        "\n",
        "# Z-Score標準化\n",
        "def z_score_y(raw_data):\n",
        "  print(raw_data)\n",
        "  # 計算數據平均數\n",
        "  total = 0\n",
        "  for d in raw_data:\n",
        "    total += d\n",
        "  aver = total/len(raw_data)\n",
        "  \n",
        "  # 計算所有數據減掉平均數的平方相加\n",
        "  data_s = 0\n",
        "  for s in raw_data:\n",
        "    data_s += (s - aver)**2\n",
        "  \n",
        "  # 計算剛剛的結果除以數據總數開根號即為標準差\n",
        "  std = math.sqrt(data_s/len(raw_data))\n",
        "  \n",
        "  # 將每個數據減掉平均數除以標準差成為新的數據串列\n",
        "  # 裝新的標準化後的數據串列\n",
        "  z_score_data = []\n",
        "  for z in raw_data:\n",
        "    z_score_data.append((z - aver)/std)\n",
        "  \n",
        "  # 回傳結果\n",
        "  return z_score_data"
      ]
    },
    {
      "cell_type": "markdown",
      "metadata": {
        "id": "dSDl5ZQrgN28"
      },
      "source": [
        "### 0.模型信心分數"
      ]
    },
    {
      "cell_type": "code",
      "execution_count": 19,
      "metadata": {
        "colab": {
          "base_uri": "https://localhost:8080/"
        },
        "id": "AxqvodkNgMeV",
        "outputId": "f5aa33ec-22ed-436d-d163-36490b711b70"
      },
      "outputs": [
        {
          "name": "stdout",
          "output_type": "stream",
          "text": [
            "wood 1.0\n",
            "plastic 0.8315587677529083\n",
            "silver 0.2952140905018173\n",
            "glass 0.1772811929180608\n",
            "cloth 0.05810032585659712\n",
            "gold 0.055522764779855\n",
            "steel 0.03323126142365649\n",
            "paper 0.003482731213024123\n",
            "metal 0.00029651256257679816\n",
            "silk 0.0\n"
          ]
        }
      ],
      "source": [
        "s0s = [c[\"s0\"] for c in cs]\n",
        "new_s0s = min_max_y(s0s)\n",
        "\n",
        "for i, c in enumerate(cs):\n",
        "    print(c[\"word\"], new_s0s[i])\n",
        "    c[\"s0\"] = new_s0s[i]"
      ]
    },
    {
      "cell_type": "markdown",
      "metadata": {
        "id": "uxPzPnsHquLx"
      },
      "source": [
        "### 1.單字相似度"
      ]
    },
    {
      "cell_type": "code",
      "execution_count": 20,
      "metadata": {
        "colab": {
          "base_uri": "https://localhost:8080/"
        },
        "id": "c_Rybw54q-8d",
        "outputId": "51493cd1-2ce4-4774-a172-f3b77f925e71"
      },
      "outputs": [
        {
          "name": "stdout",
          "output_type": "stream",
          "text": [
            "metal\n",
            "----------------------------------------------------------------------------------------------------\n",
            "wood 0.570311963558197 0.8471858352422714\n",
            "plastic 0.3567829728126526 0.5299932956695557\n",
            "silver 0.5622334778308868 0.8351854234933853\n",
            "glass 0.49978554248809814 0.7424204051494598\n",
            "cloth 0.5674786567687988 0.8429770171642303\n",
            "gold 0.6292172372341156 0.9346882998943329\n",
            "steel 0.32425516843795776 0.4816739559173584\n",
            "paper 0.6023193895816803 0.894732154905796\n",
            "metal -1.1920928955078125e-07 0.0\n",
            "silk 0.6731840372085571 1.0\n"
          ]
        }
      ],
      "source": [
        "print(answer)\n",
        "print(\"-\"*100)\n",
        "answer_vector = ds_model.get_word_vector(answer)\n",
        "\n",
        "word_similarities = list()\n",
        "for c in cs:\n",
        "  c_vector = ds_model.get_word_vector(c[\"word\"])\n",
        "  word_similarity = similarity(answer_vector, c_vector)\n",
        "  word_similarities.append(word_similarity)\n",
        "\n",
        "new_similarities = min_max_y(word_similarities)\n",
        "\n",
        "for i, c in enumerate(cs):\n",
        "    print(c[\"word\"], 1-word_similarities[i], 1-new_similarities[i])\n",
        "    c[\"s2\"] = 1-new_similarities[i]"
      ]
    },
    {
      "cell_type": "markdown",
      "metadata": {
        "id": "VngDSn9krED-"
      },
      "source": [
        "### 2.句子相似度\n",
        "\n",
        "* correct_sent = 填入正確答案句子\n",
        "* cand_sents = 填入候選詞句子"
      ]
    },
    {
      "cell_type": "code",
      "execution_count": 21,
      "metadata": {
        "colab": {
          "base_uri": "https://localhost:8080/"
        },
        "id": "5BMQePMprGsL",
        "outputId": "a52c2611-6373-4bef-e7c0-9167fb0e43b9"
      },
      "outputs": [
        {
          "name": "stdout",
          "output_type": "stream",
          "text": [
            "If an object is attracted to a magnet, the object is most likely made of metal.\n",
            "----------------------------------------------------------------------------------------------------\n",
            "If an object is attracted to a magnet, the object is most likely made of wood. 0.011307775974273682 1.0\n",
            "If an object is attracted to a magnet, the object is most likely made of plastic. 0.005721330642700195 0.5059642791748047\n",
            "If an object is attracted to a magnet, the object is most likely made of silver. 0.007270693778991699 0.642981767654419\n",
            "If an object is attracted to a magnet, the object is most likely made of glass. 0.008157134056091309 0.7213738560676575\n",
            "If an object is attracted to a magnet, the object is most likely made of cloth. 0.010901391506195068 0.9640615023672581\n",
            "If an object is attracted to a magnet, the object is most likely made of gold. 0.010329246520996094 0.9134640246629715\n",
            "If an object is attracted to a magnet, the object is most likely made of steel. 0.005473434925079346 0.484041690826416\n",
            "If an object is attracted to a magnet, the object is most likely made of paper. 0.009780824184417725 0.8649644404649734\n",
            "If an object is attracted to a magnet, the object is most likely made of metal. 0.0 0.0\n",
            "If an object is attracted to a magnet, the object is most likely made of silk. 0.008920729160308838 0.7889021784067154\n"
          ]
        }
      ],
      "source": [
        "#依據訓練過後的BERT所生成選項放入句子做比較\n",
        "correct_sent = origin_sent.replace('[MASK]', answer)\n",
        "print(correct_sent)\n",
        "print(\"-\"*100)\n",
        "correct_sent_vector = ds_model.get_sentence_vector(correct_sent)\n",
        "\n",
        "cand_sents = list()\n",
        "for c in cs:\n",
        "  cand_sents.append(origin_sent.replace('[MASK]', c[\"word\"]))\n",
        "\n",
        "sent_similarities = list()\n",
        "#兩句子距離\n",
        "for cand_sent in cand_sents:\n",
        "  cand_sent_vector = ds_model.get_sentence_vector(cand_sent)\n",
        "  sent_similarity = similarity(correct_sent_vector, cand_sent_vector)\n",
        "  sent_similarities.append(sent_similarity)\n",
        "\n",
        "new_similarities = min_max_y(sent_similarities)\n",
        "for i, c in enumerate(cs):\n",
        "    print(cand_sents[i], 1-sent_similarities[i], 1-new_similarities[i])\n",
        "    c[\"s2\"] = 1-new_similarities[i]"
      ]
    },
    {
      "cell_type": "markdown",
      "metadata": {
        "id": "-hWeywrsseyQ"
      },
      "source": [
        "### 3.詞性相似度"
      ]
    },
    {
      "cell_type": "code",
      "execution_count": 22,
      "metadata": {
        "colab": {
          "base_uri": "https://localhost:8080/"
        },
        "id": "hM5ESPedBhS-",
        "outputId": "b59d2014-8470-49c3-bab8-44c1a0e3a0c6"
      },
      "outputs": [
        {
          "name": "stderr",
          "output_type": "stream",
          "text": [
            "[nltk_data] Downloading package punkt to\n",
            "[nltk_data]     C:\\Users\\andy1\\AppData\\Roaming\\nltk_data...\n",
            "[nltk_data]   Package punkt is already up-to-date!\n",
            "[nltk_data] Downloading package averaged_perceptron_tagger to\n",
            "[nltk_data]     C:\\Users\\andy1\\AppData\\Roaming\\nltk_data...\n",
            "[nltk_data]   Package averaged_perceptron_tagger is already up-to-\n",
            "[nltk_data]       date!\n"
          ]
        },
        {
          "data": {
            "text/plain": [
              "True"
            ]
          },
          "execution_count": 22,
          "metadata": {},
          "output_type": "execute_result"
        }
      ],
      "source": [
        "import nltk\n",
        "from nltk.tokenize import word_tokenize\n",
        "\n",
        "nltk.download('punkt')\n",
        "nltk.download('averaged_perceptron_tagger')"
      ]
    },
    {
      "cell_type": "code",
      "execution_count": 23,
      "metadata": {
        "colab": {
          "base_uri": "https://localhost:8080/"
        },
        "id": "YXT91qfgB8Sh",
        "outputId": "445936c8-d4cf-4cd1-f6ad-427f4f5a125f"
      },
      "outputs": [
        {
          "name": "stdout",
          "output_type": "stream",
          "text": [
            "('metal', 'NN')\n",
            "----------------------------------------------------------------------------------------------------\n",
            "('wood', 'NN') 1.0\n",
            "('plastic', 'NN') 1.0\n",
            "('silver', 'NN') 1.0\n",
            "('glass', 'NN') 1.0\n",
            "('cloth', 'NN') 1.0\n",
            "('gold', 'NN') 1.0\n",
            "('steel', 'NN') 1.0\n",
            "('paper', 'NN') 1.0\n",
            "('metal', 'NN') 1.0\n",
            "('silk', 'NN') 1.0\n"
          ]
        }
      ],
      "source": [
        "origin_token = word_tokenize(origin_sent)\n",
        "origin_token.remove(\"[\")\n",
        "origin_token.remove(\"]\")\n",
        "# print(origin_token)\n",
        "\n",
        "mask_index = origin_token.index(\"MASK\")\n",
        "# print(mask_index)\n",
        "\n",
        "correct_token = word_tokenize(correct_sent)\n",
        "# print(correct_token)\n",
        "correct_pos = nltk.pos_tag(correct_token)\n",
        "# print(correct_pos)\n",
        "\n",
        "answer_pos = correct_pos[mask_index]\n",
        "print(answer_pos)\n",
        "print(\"-\"*100)\n",
        "\n",
        "for i, c in enumerate(cs):\n",
        "    cand_sent_token = word_tokenize(cand_sents[i])\n",
        "    cand_sent_pos = nltk.pos_tag(cand_sent_token)\n",
        "    cand_pos = cand_sent_pos[mask_index]\n",
        "\n",
        "    if cand_pos[1] == answer_pos[1]:\n",
        "        c[\"s3\"] = 1.0\n",
        "    else:\n",
        "        c[\"s3\"] = 0.0\n",
        "    \n",
        "    print(cand_pos, c[\"s3\"])"
      ]
    },
    {
      "cell_type": "markdown",
      "metadata": {
        "id": "0K3l_6jcXARM"
      },
      "source": [
        "### 4.型態相似度(skip!)"
      ]
    },
    {
      "cell_type": "code",
      "execution_count": null,
      "metadata": {
        "colab": {
          "base_uri": "https://localhost:8080/"
        },
        "id": "Ib_5BPNAXJqK",
        "outputId": "115d1444-6d67-4e67-e3e4-a2e297289edb"
      },
      "outputs": [
        {
          "name": "stdout",
          "output_type": "stream",
          "text": [
            "sad 0.6\n",
            "boring 0.8\n",
            "busy 0.8\n",
            "happy 1.0\n",
            "bad 0.6\n",
            "rich 0.8\n",
            "lazy 0.8\n",
            "normal 0.8\n",
            "difficult 0.19999999999999996\n",
            "strange 0.6\n"
          ]
        }
      ],
      "source": [
        "ans_len = len(answer)\n",
        "for c in cs:\n",
        "    dis_len = len(c)\n",
        "    diff = max(1 - (abs(dis_len-ans_len) / ans_len), 0)\n",
        "    print(c, diff)"
      ]
    },
    {
      "cell_type": "markdown",
      "metadata": {
        "id": "xlGFWHIOBA_4"
      },
      "source": [
        "## Ranker"
      ]
    },
    {
      "cell_type": "code",
      "execution_count": 24,
      "metadata": {
        "colab": {
          "base_uri": "https://localhost:8080/"
        },
        "id": "IV1V6Y3Y_8BT",
        "outputId": "04184147-bbd4-4334-bae6-2d711f3ac921"
      },
      "outputs": [
        {
          "data": {
            "text/plain": [
              "[{'word': 'wood', 's0': 1.0, 's1': 0.0, 's2': 1.0, 's3': 1.0},\n",
              " {'word': 'plastic',\n",
              "  's0': 0.8315587677529083,\n",
              "  's1': 0.0,\n",
              "  's2': 0.5059642791748047,\n",
              "  's3': 1.0},\n",
              " {'word': 'silver',\n",
              "  's0': 0.2952140905018173,\n",
              "  's1': 0.0,\n",
              "  's2': 0.642981767654419,\n",
              "  's3': 1.0},\n",
              " {'word': 'glass',\n",
              "  's0': 0.1772811929180608,\n",
              "  's1': 0.0,\n",
              "  's2': 0.7213738560676575,\n",
              "  's3': 1.0},\n",
              " {'word': 'cloth',\n",
              "  's0': 0.05810032585659712,\n",
              "  's1': 0.0,\n",
              "  's2': 0.9640615023672581,\n",
              "  's3': 1.0},\n",
              " {'word': 'gold',\n",
              "  's0': 0.055522764779855,\n",
              "  's1': 0.0,\n",
              "  's2': 0.9134640246629715,\n",
              "  's3': 1.0},\n",
              " {'word': 'steel',\n",
              "  's0': 0.03323126142365649,\n",
              "  's1': 0.0,\n",
              "  's2': 0.484041690826416,\n",
              "  's3': 1.0},\n",
              " {'word': 'paper',\n",
              "  's0': 0.003482731213024123,\n",
              "  's1': 0.0,\n",
              "  's2': 0.8649644404649734,\n",
              "  's3': 1.0},\n",
              " {'word': 'metal',\n",
              "  's0': 0.00029651256257679816,\n",
              "  's1': 0.0,\n",
              "  's2': 0.0,\n",
              "  's3': 1.0},\n",
              " {'word': 'silk', 's0': 0.0, 's1': 0.0, 's2': 0.7889021784067154, 's3': 1.0}]"
            ]
          },
          "execution_count": 24,
          "metadata": {},
          "output_type": "execute_result"
        }
      ],
      "source": [
        "cs"
      ]
    },
    {
      "cell_type": "markdown",
      "metadata": {
        "id": "2oSdNgW0lYZ6"
      },
      "source": [
        "### 加上權重 (final score)"
      ]
    },
    {
      "cell_type": "code",
      "execution_count": 25,
      "metadata": {},
      "outputs": [],
      "source": [
        "WEIGHT = {\"s0\": 0.6, \"s1\": 0.15, \"s2\": 0.15, \"s3\": 0.1}"
      ]
    },
    {
      "cell_type": "code",
      "execution_count": 26,
      "metadata": {
        "id": "9e6onGt5AGho"
      },
      "outputs": [
        {
          "data": {
            "text/plain": [
              "[('wood', 0.85),\n",
              " ('plastic', 0.6748299025279656),\n",
              " ('silver', 0.37357571944925316),\n",
              " ('glass', 0.3145747941609851),\n",
              " ('cloth', 0.279469420869047),\n",
              " ('gold', 0.2703332625673587),\n",
              " ('steel', 0.1925450104781563),\n",
              " ('paper', 0.2318343047975605),\n",
              " ('metal', 0.10017790753754609),\n",
              " ('silk', 0.2183353267610073)]"
            ]
          },
          "execution_count": 26,
          "metadata": {},
          "output_type": "execute_result"
        }
      ],
      "source": [
        "cs_fs = list()\n",
        "for c in cs:\n",
        "    fs = WEIGHT[\"s0\"]*c[\"s0\"] + WEIGHT[\"s1\"]*c[\"s1\"] + WEIGHT[\"s2\"]*c[\"s2\"] + WEIGHT[\"s3\"]*c[\"s3\"]\n",
        "    cs_fs.append((c[\"word\"], fs))\n",
        "\n",
        "cs_fs"
      ]
    },
    {
      "cell_type": "markdown",
      "metadata": {
        "id": "jYNkGFD9lfkG"
      },
      "source": [
        "### 排序"
      ]
    },
    {
      "cell_type": "code",
      "execution_count": 27,
      "metadata": {
        "colab": {
          "base_uri": "https://localhost:8080/"
        },
        "id": "VkdOSg09ApWj",
        "outputId": "2ee08997-d9a1-4d2e-aea0-313b6be19547"
      },
      "outputs": [
        {
          "data": {
            "text/plain": [
              "[('wood', 0.85),\n",
              " ('plastic', 0.6748299025279656),\n",
              " ('silver', 0.37357571944925316),\n",
              " ('glass', 0.3145747941609851),\n",
              " ('cloth', 0.279469420869047),\n",
              " ('gold', 0.2703332625673587),\n",
              " ('paper', 0.2318343047975605),\n",
              " ('silk', 0.2183353267610073),\n",
              " ('steel', 0.1925450104781563),\n",
              " ('metal', 0.10017790753754609)]"
            ]
          },
          "execution_count": 27,
          "metadata": {},
          "output_type": "execute_result"
        }
      ],
      "source": [
        "cs_fs.sort(key = lambda x: x[1], reverse=True)\n",
        "cs_fs"
      ]
    },
    {
      "cell_type": "markdown",
      "metadata": {
        "id": "XfCp0FkUlwOx"
      },
      "source": [
        "## Distractors"
      ]
    },
    {
      "cell_type": "markdown",
      "metadata": {
        "id": "KGGVfmSKliE8"
      },
      "source": [
        "### Top 3"
      ]
    },
    {
      "cell_type": "code",
      "execution_count": 28,
      "metadata": {
        "colab": {
          "base_uri": "https://localhost:8080/"
        },
        "id": "c1Io7dMTA8IU",
        "outputId": "87521419-8040-4f30-fb7c-7aced24b913a"
      },
      "outputs": [
        {
          "data": {
            "text/plain": [
              "[('wood', 0.85),\n",
              " ('plastic', 0.6748299025279656),\n",
              " ('silver', 0.37357571944925316)]"
            ]
          },
          "execution_count": 28,
          "metadata": {},
          "output_type": "execute_result"
        }
      ],
      "source": [
        "distractors = cs_fs[:3]\n",
        "distractors"
      ]
    },
    {
      "cell_type": "code",
      "execution_count": 29,
      "metadata": {},
      "outputs": [
        {
          "data": {
            "text/plain": [
              "['wood', 'plastic', 'silver']"
            ]
          },
          "execution_count": 29,
          "metadata": {},
          "output_type": "execute_result"
        }
      ],
      "source": [
        "result = [d[0] for d in distractors]\n",
        "result"
      ]
    },
    {
      "cell_type": "markdown",
      "metadata": {},
      "source": [
        "## Result\n",
        "\n",
        "### text13\n",
        "\n",
        "\"If an object is attracted to a magnet, the object is most likely made of [MASK]. [SEP] metal\"\n",
        "\n",
        "ans: metal  \n",
        "dis: wood, plastic, cardboard  \n",
        "result: **wood**, glass, water\n",
        "\n",
        "### text14\n",
        "\n",
        "\"the main organs of the respiratory system are [MASK]. [SEP] lungs\"\n",
        "\n",
        "ans: lungs  \n",
        "dis: ovaries, intestines, kidneys  \n",
        "result: eyes, organs, ears\n",
        "\n",
        "### text15\n",
        "\n",
        "\"The products of photosynthesis are glucose and [MASK] else. [SEP] oxygen\"\n",
        "\n",
        "ans: oxygen  \n",
        "dis: carbon, hydrogen, nitrogen  \n",
        "result: water, sugar, something  \n",
        "result(30): water, sugar, rice\n",
        "\n",
        "### text16\n",
        "\n",
        "\"frogs have [MASK] eyelid membranes. [SEP] three\"\n",
        "\n",
        "ans: three  \n",
        "dis: two, four, one  \n",
        "result: **four**, **one**, **two**\n",
        "\n",
        "### text17\n",
        "\n",
        "\"the only known planet with large amounts of water is [MASK]. [SEP] earth\"\n",
        "\n",
        "ans: earth  \n",
        "dis: saturn, jupiter, mars  \n",
        "result: moon, *earth*, sea  \n",
        "result(30): moon, asia, africa\n",
        "\n"
      ]
    },
    {
      "cell_type": "markdown",
      "metadata": {},
      "source": [
        "## Record\n",
        "\n",
        "* top30好像沒有比較好"
      ]
    }
  ],
  "metadata": {
    "accelerator": "GPU",
    "colab": {
      "collapsed_sections": [
        "cKtTacFszaFj",
        "WOZTGiISqiCO",
        "99Mxtt4hgBr2",
        "LzmYNKL_gEjc",
        "0K3l_6jcXARM"
      ],
      "name": "cloze-distractors-generation.ipynb",
      "provenance": [],
      "toc_visible": true
    },
    "kernelspec": {
      "display_name": "Python 3",
      "name": "python3"
    },
    "language_info": {
      "codemirror_mode": {
        "name": "ipython",
        "version": 3
      },
      "file_extension": ".py",
      "mimetype": "text/x-python",
      "name": "python",
      "nbconvert_exporter": "python",
      "pygments_lexer": "ipython3",
      "version": "3.8.8"
    },
    "widgets": {
      "application/vnd.jupyter.widget-state+json": {
        "09d6a08bc4ff4e1c9db722171c092247": {
          "model_module": "@jupyter-widgets/base",
          "model_module_version": "1.2.0",
          "model_name": "LayoutModel",
          "state": {
            "_model_module": "@jupyter-widgets/base",
            "_model_module_version": "1.2.0",
            "_model_name": "LayoutModel",
            "_view_count": null,
            "_view_module": "@jupyter-widgets/base",
            "_view_module_version": "1.2.0",
            "_view_name": "LayoutView",
            "align_content": null,
            "align_items": null,
            "align_self": null,
            "border": null,
            "bottom": null,
            "display": null,
            "flex": null,
            "flex_flow": null,
            "grid_area": null,
            "grid_auto_columns": null,
            "grid_auto_flow": null,
            "grid_auto_rows": null,
            "grid_column": null,
            "grid_gap": null,
            "grid_row": null,
            "grid_template_areas": null,
            "grid_template_columns": null,
            "grid_template_rows": null,
            "height": null,
            "justify_content": null,
            "justify_items": null,
            "left": null,
            "margin": null,
            "max_height": null,
            "max_width": null,
            "min_height": null,
            "min_width": null,
            "object_fit": null,
            "object_position": null,
            "order": null,
            "overflow": null,
            "overflow_x": null,
            "overflow_y": null,
            "padding": null,
            "right": null,
            "top": null,
            "visibility": null,
            "width": null
          }
        },
        "13a6bbca8fe44a96a8265390874d0cc3": {
          "model_module": "@jupyter-widgets/controls",
          "model_module_version": "1.5.0",
          "model_name": "HBoxModel",
          "state": {
            "_dom_classes": [],
            "_model_module": "@jupyter-widgets/controls",
            "_model_module_version": "1.5.0",
            "_model_name": "HBoxModel",
            "_view_count": null,
            "_view_module": "@jupyter-widgets/controls",
            "_view_module_version": "1.5.0",
            "_view_name": "HBoxView",
            "box_style": "",
            "children": [
              "IPY_MODEL_5dfdb6ed6ea04b50b489432798d70555",
              "IPY_MODEL_75c0744f5df244e29dff4a90e3e2460f",
              "IPY_MODEL_394dae1a42dc4de888d898855309eeac"
            ],
            "layout": "IPY_MODEL_760af93c66484f75b5698af259c96d6c"
          }
        },
        "18185801a4184d2fa0f0a3a408ce52f4": {
          "model_module": "@jupyter-widgets/controls",
          "model_module_version": "1.5.0",
          "model_name": "FloatProgressModel",
          "state": {
            "_dom_classes": [],
            "_model_module": "@jupyter-widgets/controls",
            "_model_module_version": "1.5.0",
            "_model_name": "FloatProgressModel",
            "_view_count": null,
            "_view_module": "@jupyter-widgets/controls",
            "_view_module_version": "1.5.0",
            "_view_name": "ProgressView",
            "bar_style": "success",
            "description": "",
            "description_tooltip": null,
            "layout": "IPY_MODEL_b200f61879354d4780955f0c70415fd6",
            "max": 570,
            "min": 0,
            "orientation": "horizontal",
            "style": "IPY_MODEL_c2fc82e1756b4d06bb62b0403e7ccfee",
            "value": 570
          }
        },
        "265b43d0e7134abbacb8693a2c6387da": {
          "model_module": "@jupyter-widgets/controls",
          "model_module_version": "1.5.0",
          "model_name": "ProgressStyleModel",
          "state": {
            "_model_module": "@jupyter-widgets/controls",
            "_model_module_version": "1.5.0",
            "_model_name": "ProgressStyleModel",
            "_view_count": null,
            "_view_module": "@jupyter-widgets/base",
            "_view_module_version": "1.2.0",
            "_view_name": "StyleView",
            "bar_color": null,
            "description_width": ""
          }
        },
        "317ed13a365d432f9024d60a0db890c5": {
          "model_module": "@jupyter-widgets/base",
          "model_module_version": "1.2.0",
          "model_name": "LayoutModel",
          "state": {
            "_model_module": "@jupyter-widgets/base",
            "_model_module_version": "1.2.0",
            "_model_name": "LayoutModel",
            "_view_count": null,
            "_view_module": "@jupyter-widgets/base",
            "_view_module_version": "1.2.0",
            "_view_name": "LayoutView",
            "align_content": null,
            "align_items": null,
            "align_self": null,
            "border": null,
            "bottom": null,
            "display": null,
            "flex": null,
            "flex_flow": null,
            "grid_area": null,
            "grid_auto_columns": null,
            "grid_auto_flow": null,
            "grid_auto_rows": null,
            "grid_column": null,
            "grid_gap": null,
            "grid_row": null,
            "grid_template_areas": null,
            "grid_template_columns": null,
            "grid_template_rows": null,
            "height": null,
            "justify_content": null,
            "justify_items": null,
            "left": null,
            "margin": null,
            "max_height": null,
            "max_width": null,
            "min_height": null,
            "min_width": null,
            "object_fit": null,
            "object_position": null,
            "order": null,
            "overflow": null,
            "overflow_x": null,
            "overflow_y": null,
            "padding": null,
            "right": null,
            "top": null,
            "visibility": null,
            "width": null
          }
        },
        "394dae1a42dc4de888d898855309eeac": {
          "model_module": "@jupyter-widgets/controls",
          "model_module_version": "1.5.0",
          "model_name": "HTMLModel",
          "state": {
            "_dom_classes": [],
            "_model_module": "@jupyter-widgets/controls",
            "_model_module_version": "1.5.0",
            "_model_name": "HTMLModel",
            "_view_count": null,
            "_view_module": "@jupyter-widgets/controls",
            "_view_module_version": "1.5.0",
            "_view_name": "HTMLView",
            "description": "",
            "description_tooltip": null,
            "layout": "IPY_MODEL_e44caa4f83594150a69110c5c9612706",
            "placeholder": "​",
            "style": "IPY_MODEL_765099c25ee64eafaab26ae21534417d",
            "value": " 226k/226k [00:00&lt;00:00, 1.00MB/s]"
          }
        },
        "45088d1a68024956869c026c57f7595d": {
          "model_module": "@jupyter-widgets/base",
          "model_module_version": "1.2.0",
          "model_name": "LayoutModel",
          "state": {
            "_model_module": "@jupyter-widgets/base",
            "_model_module_version": "1.2.0",
            "_model_name": "LayoutModel",
            "_view_count": null,
            "_view_module": "@jupyter-widgets/base",
            "_view_module_version": "1.2.0",
            "_view_name": "LayoutView",
            "align_content": null,
            "align_items": null,
            "align_self": null,
            "border": null,
            "bottom": null,
            "display": null,
            "flex": null,
            "flex_flow": null,
            "grid_area": null,
            "grid_auto_columns": null,
            "grid_auto_flow": null,
            "grid_auto_rows": null,
            "grid_column": null,
            "grid_gap": null,
            "grid_row": null,
            "grid_template_areas": null,
            "grid_template_columns": null,
            "grid_template_rows": null,
            "height": null,
            "justify_content": null,
            "justify_items": null,
            "left": null,
            "margin": null,
            "max_height": null,
            "max_width": null,
            "min_height": null,
            "min_width": null,
            "object_fit": null,
            "object_position": null,
            "order": null,
            "overflow": null,
            "overflow_x": null,
            "overflow_y": null,
            "padding": null,
            "right": null,
            "top": null,
            "visibility": null,
            "width": null
          }
        },
        "4a0dd0b2bb074f23a6d2b634a134c233": {
          "model_module": "@jupyter-widgets/controls",
          "model_module_version": "1.5.0",
          "model_name": "HTMLModel",
          "state": {
            "_dom_classes": [],
            "_model_module": "@jupyter-widgets/controls",
            "_model_module_version": "1.5.0",
            "_model_name": "HTMLModel",
            "_view_count": null,
            "_view_module": "@jupyter-widgets/controls",
            "_view_module_version": "1.5.0",
            "_view_name": "HTMLView",
            "description": "",
            "description_tooltip": null,
            "layout": "IPY_MODEL_b43c1f52f2dd497c8e8de5d46e1b2e99",
            "placeholder": "​",
            "style": "IPY_MODEL_869b00af41184c5f842f2630ea28cf2a",
            "value": " 28.0/28.0 [00:00&lt;00:00, 167B/s]"
          }
        },
        "4cc0a6159ee4424abdc2d7470bfa2bee": {
          "model_module": "@jupyter-widgets/controls",
          "model_module_version": "1.5.0",
          "model_name": "DescriptionStyleModel",
          "state": {
            "_model_module": "@jupyter-widgets/controls",
            "_model_module_version": "1.5.0",
            "_model_name": "DescriptionStyleModel",
            "_view_count": null,
            "_view_module": "@jupyter-widgets/base",
            "_view_module_version": "1.2.0",
            "_view_name": "StyleView",
            "description_width": ""
          }
        },
        "57419a3899a24cad8bb50ff3abd53eea": {
          "model_module": "@jupyter-widgets/controls",
          "model_module_version": "1.5.0",
          "model_name": "DescriptionStyleModel",
          "state": {
            "_model_module": "@jupyter-widgets/controls",
            "_model_module_version": "1.5.0",
            "_model_name": "DescriptionStyleModel",
            "_view_count": null,
            "_view_module": "@jupyter-widgets/base",
            "_view_module_version": "1.2.0",
            "_view_name": "StyleView",
            "description_width": ""
          }
        },
        "5dfdb6ed6ea04b50b489432798d70555": {
          "model_module": "@jupyter-widgets/controls",
          "model_module_version": "1.5.0",
          "model_name": "HTMLModel",
          "state": {
            "_dom_classes": [],
            "_model_module": "@jupyter-widgets/controls",
            "_model_module_version": "1.5.0",
            "_model_name": "HTMLModel",
            "_view_count": null,
            "_view_module": "@jupyter-widgets/controls",
            "_view_module_version": "1.5.0",
            "_view_name": "HTMLView",
            "description": "",
            "description_tooltip": null,
            "layout": "IPY_MODEL_09d6a08bc4ff4e1c9db722171c092247",
            "placeholder": "​",
            "style": "IPY_MODEL_9df003cfce844e629fcb9a149d735731",
            "value": "Downloading: 100%"
          }
        },
        "604d98e8d1994ed7a7ab31f15e572cce": {
          "model_module": "@jupyter-widgets/controls",
          "model_module_version": "1.5.0",
          "model_name": "HBoxModel",
          "state": {
            "_dom_classes": [],
            "_model_module": "@jupyter-widgets/controls",
            "_model_module_version": "1.5.0",
            "_model_name": "HBoxModel",
            "_view_count": null,
            "_view_module": "@jupyter-widgets/controls",
            "_view_module_version": "1.5.0",
            "_view_name": "HBoxView",
            "box_style": "",
            "children": [
              "IPY_MODEL_723dbc96fab04b9a94d6b8ba4cc96f74",
              "IPY_MODEL_b88dea4099cc4d43a8b8315fe9bc8eb3",
              "IPY_MODEL_4a0dd0b2bb074f23a6d2b634a134c233"
            ],
            "layout": "IPY_MODEL_d54d9712c56f4fbf9b08fa9222bb1ea9"
          }
        },
        "68edf999a09e4bffae1260c31bd7a9bc": {
          "model_module": "@jupyter-widgets/controls",
          "model_module_version": "1.5.0",
          "model_name": "ProgressStyleModel",
          "state": {
            "_model_module": "@jupyter-widgets/controls",
            "_model_module_version": "1.5.0",
            "_model_name": "ProgressStyleModel",
            "_view_count": null,
            "_view_module": "@jupyter-widgets/base",
            "_view_module_version": "1.2.0",
            "_view_name": "StyleView",
            "bar_color": null,
            "description_width": ""
          }
        },
        "723dbc96fab04b9a94d6b8ba4cc96f74": {
          "model_module": "@jupyter-widgets/controls",
          "model_module_version": "1.5.0",
          "model_name": "HTMLModel",
          "state": {
            "_dom_classes": [],
            "_model_module": "@jupyter-widgets/controls",
            "_model_module_version": "1.5.0",
            "_model_name": "HTMLModel",
            "_view_count": null,
            "_view_module": "@jupyter-widgets/controls",
            "_view_module_version": "1.5.0",
            "_view_name": "HTMLView",
            "description": "",
            "description_tooltip": null,
            "layout": "IPY_MODEL_94c5ecd282a74afdbf0539d8f717ea5c",
            "placeholder": "​",
            "style": "IPY_MODEL_d3422d6801414024a0f8f7a65548d2b9",
            "value": "Downloading: 100%"
          }
        },
        "75c0744f5df244e29dff4a90e3e2460f": {
          "model_module": "@jupyter-widgets/controls",
          "model_module_version": "1.5.0",
          "model_name": "FloatProgressModel",
          "state": {
            "_dom_classes": [],
            "_model_module": "@jupyter-widgets/controls",
            "_model_module_version": "1.5.0",
            "_model_name": "FloatProgressModel",
            "_view_count": null,
            "_view_module": "@jupyter-widgets/controls",
            "_view_module_version": "1.5.0",
            "_view_name": "ProgressView",
            "bar_style": "success",
            "description": "",
            "description_tooltip": null,
            "layout": "IPY_MODEL_d1cbd3beb71a4903b30573e9dd8c3554",
            "max": 231508,
            "min": 0,
            "orientation": "horizontal",
            "style": "IPY_MODEL_265b43d0e7134abbacb8693a2c6387da",
            "value": 231508
          }
        },
        "760af93c66484f75b5698af259c96d6c": {
          "model_module": "@jupyter-widgets/base",
          "model_module_version": "1.2.0",
          "model_name": "LayoutModel",
          "state": {
            "_model_module": "@jupyter-widgets/base",
            "_model_module_version": "1.2.0",
            "_model_name": "LayoutModel",
            "_view_count": null,
            "_view_module": "@jupyter-widgets/base",
            "_view_module_version": "1.2.0",
            "_view_name": "LayoutView",
            "align_content": null,
            "align_items": null,
            "align_self": null,
            "border": null,
            "bottom": null,
            "display": null,
            "flex": null,
            "flex_flow": null,
            "grid_area": null,
            "grid_auto_columns": null,
            "grid_auto_flow": null,
            "grid_auto_rows": null,
            "grid_column": null,
            "grid_gap": null,
            "grid_row": null,
            "grid_template_areas": null,
            "grid_template_columns": null,
            "grid_template_rows": null,
            "height": null,
            "justify_content": null,
            "justify_items": null,
            "left": null,
            "margin": null,
            "max_height": null,
            "max_width": null,
            "min_height": null,
            "min_width": null,
            "object_fit": null,
            "object_position": null,
            "order": null,
            "overflow": null,
            "overflow_x": null,
            "overflow_y": null,
            "padding": null,
            "right": null,
            "top": null,
            "visibility": null,
            "width": null
          }
        },
        "765099c25ee64eafaab26ae21534417d": {
          "model_module": "@jupyter-widgets/controls",
          "model_module_version": "1.5.0",
          "model_name": "DescriptionStyleModel",
          "state": {
            "_model_module": "@jupyter-widgets/controls",
            "_model_module_version": "1.5.0",
            "_model_name": "DescriptionStyleModel",
            "_view_count": null,
            "_view_module": "@jupyter-widgets/base",
            "_view_module_version": "1.2.0",
            "_view_name": "StyleView",
            "description_width": ""
          }
        },
        "862da95861ce4610a5e6299be33cddce": {
          "model_module": "@jupyter-widgets/controls",
          "model_module_version": "1.5.0",
          "model_name": "HTMLModel",
          "state": {
            "_dom_classes": [],
            "_model_module": "@jupyter-widgets/controls",
            "_model_module_version": "1.5.0",
            "_model_name": "HTMLModel",
            "_view_count": null,
            "_view_module": "@jupyter-widgets/controls",
            "_view_module_version": "1.5.0",
            "_view_name": "HTMLView",
            "description": "",
            "description_tooltip": null,
            "layout": "IPY_MODEL_317ed13a365d432f9024d60a0db890c5",
            "placeholder": "​",
            "style": "IPY_MODEL_57419a3899a24cad8bb50ff3abd53eea",
            "value": " 570/570 [00:00&lt;00:00, 4.03kB/s]"
          }
        },
        "869b00af41184c5f842f2630ea28cf2a": {
          "model_module": "@jupyter-widgets/controls",
          "model_module_version": "1.5.0",
          "model_name": "DescriptionStyleModel",
          "state": {
            "_model_module": "@jupyter-widgets/controls",
            "_model_module_version": "1.5.0",
            "_model_name": "DescriptionStyleModel",
            "_view_count": null,
            "_view_module": "@jupyter-widgets/base",
            "_view_module_version": "1.2.0",
            "_view_name": "StyleView",
            "description_width": ""
          }
        },
        "94c5ecd282a74afdbf0539d8f717ea5c": {
          "model_module": "@jupyter-widgets/base",
          "model_module_version": "1.2.0",
          "model_name": "LayoutModel",
          "state": {
            "_model_module": "@jupyter-widgets/base",
            "_model_module_version": "1.2.0",
            "_model_name": "LayoutModel",
            "_view_count": null,
            "_view_module": "@jupyter-widgets/base",
            "_view_module_version": "1.2.0",
            "_view_name": "LayoutView",
            "align_content": null,
            "align_items": null,
            "align_self": null,
            "border": null,
            "bottom": null,
            "display": null,
            "flex": null,
            "flex_flow": null,
            "grid_area": null,
            "grid_auto_columns": null,
            "grid_auto_flow": null,
            "grid_auto_rows": null,
            "grid_column": null,
            "grid_gap": null,
            "grid_row": null,
            "grid_template_areas": null,
            "grid_template_columns": null,
            "grid_template_rows": null,
            "height": null,
            "justify_content": null,
            "justify_items": null,
            "left": null,
            "margin": null,
            "max_height": null,
            "max_width": null,
            "min_height": null,
            "min_width": null,
            "object_fit": null,
            "object_position": null,
            "order": null,
            "overflow": null,
            "overflow_x": null,
            "overflow_y": null,
            "padding": null,
            "right": null,
            "top": null,
            "visibility": null,
            "width": null
          }
        },
        "971ebe8183e74dd5afe9e669436d8827": {
          "model_module": "@jupyter-widgets/controls",
          "model_module_version": "1.5.0",
          "model_name": "HTMLModel",
          "state": {
            "_dom_classes": [],
            "_model_module": "@jupyter-widgets/controls",
            "_model_module_version": "1.5.0",
            "_model_name": "HTMLModel",
            "_view_count": null,
            "_view_module": "@jupyter-widgets/controls",
            "_view_module_version": "1.5.0",
            "_view_name": "HTMLView",
            "description": "",
            "description_tooltip": null,
            "layout": "IPY_MODEL_bd1bd2cd6d8542f9bb724bbe4decc662",
            "placeholder": "​",
            "style": "IPY_MODEL_4cc0a6159ee4424abdc2d7470bfa2bee",
            "value": "Downloading: 100%"
          }
        },
        "9df003cfce844e629fcb9a149d735731": {
          "model_module": "@jupyter-widgets/controls",
          "model_module_version": "1.5.0",
          "model_name": "DescriptionStyleModel",
          "state": {
            "_model_module": "@jupyter-widgets/controls",
            "_model_module_version": "1.5.0",
            "_model_name": "DescriptionStyleModel",
            "_view_count": null,
            "_view_module": "@jupyter-widgets/base",
            "_view_module_version": "1.2.0",
            "_view_name": "StyleView",
            "description_width": ""
          }
        },
        "b200f61879354d4780955f0c70415fd6": {
          "model_module": "@jupyter-widgets/base",
          "model_module_version": "1.2.0",
          "model_name": "LayoutModel",
          "state": {
            "_model_module": "@jupyter-widgets/base",
            "_model_module_version": "1.2.0",
            "_model_name": "LayoutModel",
            "_view_count": null,
            "_view_module": "@jupyter-widgets/base",
            "_view_module_version": "1.2.0",
            "_view_name": "LayoutView",
            "align_content": null,
            "align_items": null,
            "align_self": null,
            "border": null,
            "bottom": null,
            "display": null,
            "flex": null,
            "flex_flow": null,
            "grid_area": null,
            "grid_auto_columns": null,
            "grid_auto_flow": null,
            "grid_auto_rows": null,
            "grid_column": null,
            "grid_gap": null,
            "grid_row": null,
            "grid_template_areas": null,
            "grid_template_columns": null,
            "grid_template_rows": null,
            "height": null,
            "justify_content": null,
            "justify_items": null,
            "left": null,
            "margin": null,
            "max_height": null,
            "max_width": null,
            "min_height": null,
            "min_width": null,
            "object_fit": null,
            "object_position": null,
            "order": null,
            "overflow": null,
            "overflow_x": null,
            "overflow_y": null,
            "padding": null,
            "right": null,
            "top": null,
            "visibility": null,
            "width": null
          }
        },
        "b43c1f52f2dd497c8e8de5d46e1b2e99": {
          "model_module": "@jupyter-widgets/base",
          "model_module_version": "1.2.0",
          "model_name": "LayoutModel",
          "state": {
            "_model_module": "@jupyter-widgets/base",
            "_model_module_version": "1.2.0",
            "_model_name": "LayoutModel",
            "_view_count": null,
            "_view_module": "@jupyter-widgets/base",
            "_view_module_version": "1.2.0",
            "_view_name": "LayoutView",
            "align_content": null,
            "align_items": null,
            "align_self": null,
            "border": null,
            "bottom": null,
            "display": null,
            "flex": null,
            "flex_flow": null,
            "grid_area": null,
            "grid_auto_columns": null,
            "grid_auto_flow": null,
            "grid_auto_rows": null,
            "grid_column": null,
            "grid_gap": null,
            "grid_row": null,
            "grid_template_areas": null,
            "grid_template_columns": null,
            "grid_template_rows": null,
            "height": null,
            "justify_content": null,
            "justify_items": null,
            "left": null,
            "margin": null,
            "max_height": null,
            "max_width": null,
            "min_height": null,
            "min_width": null,
            "object_fit": null,
            "object_position": null,
            "order": null,
            "overflow": null,
            "overflow_x": null,
            "overflow_y": null,
            "padding": null,
            "right": null,
            "top": null,
            "visibility": null,
            "width": null
          }
        },
        "b7410d9320be4d0cab120d1cbcf53d2f": {
          "model_module": "@jupyter-widgets/base",
          "model_module_version": "1.2.0",
          "model_name": "LayoutModel",
          "state": {
            "_model_module": "@jupyter-widgets/base",
            "_model_module_version": "1.2.0",
            "_model_name": "LayoutModel",
            "_view_count": null,
            "_view_module": "@jupyter-widgets/base",
            "_view_module_version": "1.2.0",
            "_view_name": "LayoutView",
            "align_content": null,
            "align_items": null,
            "align_self": null,
            "border": null,
            "bottom": null,
            "display": null,
            "flex": null,
            "flex_flow": null,
            "grid_area": null,
            "grid_auto_columns": null,
            "grid_auto_flow": null,
            "grid_auto_rows": null,
            "grid_column": null,
            "grid_gap": null,
            "grid_row": null,
            "grid_template_areas": null,
            "grid_template_columns": null,
            "grid_template_rows": null,
            "height": null,
            "justify_content": null,
            "justify_items": null,
            "left": null,
            "margin": null,
            "max_height": null,
            "max_width": null,
            "min_height": null,
            "min_width": null,
            "object_fit": null,
            "object_position": null,
            "order": null,
            "overflow": null,
            "overflow_x": null,
            "overflow_y": null,
            "padding": null,
            "right": null,
            "top": null,
            "visibility": null,
            "width": null
          }
        },
        "b88dea4099cc4d43a8b8315fe9bc8eb3": {
          "model_module": "@jupyter-widgets/controls",
          "model_module_version": "1.5.0",
          "model_name": "FloatProgressModel",
          "state": {
            "_dom_classes": [],
            "_model_module": "@jupyter-widgets/controls",
            "_model_module_version": "1.5.0",
            "_model_name": "FloatProgressModel",
            "_view_count": null,
            "_view_module": "@jupyter-widgets/controls",
            "_view_module_version": "1.5.0",
            "_view_name": "ProgressView",
            "bar_style": "success",
            "description": "",
            "description_tooltip": null,
            "layout": "IPY_MODEL_45088d1a68024956869c026c57f7595d",
            "max": 28,
            "min": 0,
            "orientation": "horizontal",
            "style": "IPY_MODEL_68edf999a09e4bffae1260c31bd7a9bc",
            "value": 28
          }
        },
        "bd1bd2cd6d8542f9bb724bbe4decc662": {
          "model_module": "@jupyter-widgets/base",
          "model_module_version": "1.2.0",
          "model_name": "LayoutModel",
          "state": {
            "_model_module": "@jupyter-widgets/base",
            "_model_module_version": "1.2.0",
            "_model_name": "LayoutModel",
            "_view_count": null,
            "_view_module": "@jupyter-widgets/base",
            "_view_module_version": "1.2.0",
            "_view_name": "LayoutView",
            "align_content": null,
            "align_items": null,
            "align_self": null,
            "border": null,
            "bottom": null,
            "display": null,
            "flex": null,
            "flex_flow": null,
            "grid_area": null,
            "grid_auto_columns": null,
            "grid_auto_flow": null,
            "grid_auto_rows": null,
            "grid_column": null,
            "grid_gap": null,
            "grid_row": null,
            "grid_template_areas": null,
            "grid_template_columns": null,
            "grid_template_rows": null,
            "height": null,
            "justify_content": null,
            "justify_items": null,
            "left": null,
            "margin": null,
            "max_height": null,
            "max_width": null,
            "min_height": null,
            "min_width": null,
            "object_fit": null,
            "object_position": null,
            "order": null,
            "overflow": null,
            "overflow_x": null,
            "overflow_y": null,
            "padding": null,
            "right": null,
            "top": null,
            "visibility": null,
            "width": null
          }
        },
        "c2fc82e1756b4d06bb62b0403e7ccfee": {
          "model_module": "@jupyter-widgets/controls",
          "model_module_version": "1.5.0",
          "model_name": "ProgressStyleModel",
          "state": {
            "_model_module": "@jupyter-widgets/controls",
            "_model_module_version": "1.5.0",
            "_model_name": "ProgressStyleModel",
            "_view_count": null,
            "_view_module": "@jupyter-widgets/base",
            "_view_module_version": "1.2.0",
            "_view_name": "StyleView",
            "bar_color": null,
            "description_width": ""
          }
        },
        "d17c9387fcbd40408a8da94e14dc15e6": {
          "model_module": "@jupyter-widgets/controls",
          "model_module_version": "1.5.0",
          "model_name": "HBoxModel",
          "state": {
            "_dom_classes": [],
            "_model_module": "@jupyter-widgets/controls",
            "_model_module_version": "1.5.0",
            "_model_name": "HBoxModel",
            "_view_count": null,
            "_view_module": "@jupyter-widgets/controls",
            "_view_module_version": "1.5.0",
            "_view_name": "HBoxView",
            "box_style": "",
            "children": [
              "IPY_MODEL_971ebe8183e74dd5afe9e669436d8827",
              "IPY_MODEL_18185801a4184d2fa0f0a3a408ce52f4",
              "IPY_MODEL_862da95861ce4610a5e6299be33cddce"
            ],
            "layout": "IPY_MODEL_b7410d9320be4d0cab120d1cbcf53d2f"
          }
        },
        "d1cbd3beb71a4903b30573e9dd8c3554": {
          "model_module": "@jupyter-widgets/base",
          "model_module_version": "1.2.0",
          "model_name": "LayoutModel",
          "state": {
            "_model_module": "@jupyter-widgets/base",
            "_model_module_version": "1.2.0",
            "_model_name": "LayoutModel",
            "_view_count": null,
            "_view_module": "@jupyter-widgets/base",
            "_view_module_version": "1.2.0",
            "_view_name": "LayoutView",
            "align_content": null,
            "align_items": null,
            "align_self": null,
            "border": null,
            "bottom": null,
            "display": null,
            "flex": null,
            "flex_flow": null,
            "grid_area": null,
            "grid_auto_columns": null,
            "grid_auto_flow": null,
            "grid_auto_rows": null,
            "grid_column": null,
            "grid_gap": null,
            "grid_row": null,
            "grid_template_areas": null,
            "grid_template_columns": null,
            "grid_template_rows": null,
            "height": null,
            "justify_content": null,
            "justify_items": null,
            "left": null,
            "margin": null,
            "max_height": null,
            "max_width": null,
            "min_height": null,
            "min_width": null,
            "object_fit": null,
            "object_position": null,
            "order": null,
            "overflow": null,
            "overflow_x": null,
            "overflow_y": null,
            "padding": null,
            "right": null,
            "top": null,
            "visibility": null,
            "width": null
          }
        },
        "d3422d6801414024a0f8f7a65548d2b9": {
          "model_module": "@jupyter-widgets/controls",
          "model_module_version": "1.5.0",
          "model_name": "DescriptionStyleModel",
          "state": {
            "_model_module": "@jupyter-widgets/controls",
            "_model_module_version": "1.5.0",
            "_model_name": "DescriptionStyleModel",
            "_view_count": null,
            "_view_module": "@jupyter-widgets/base",
            "_view_module_version": "1.2.0",
            "_view_name": "StyleView",
            "description_width": ""
          }
        },
        "d54d9712c56f4fbf9b08fa9222bb1ea9": {
          "model_module": "@jupyter-widgets/base",
          "model_module_version": "1.2.0",
          "model_name": "LayoutModel",
          "state": {
            "_model_module": "@jupyter-widgets/base",
            "_model_module_version": "1.2.0",
            "_model_name": "LayoutModel",
            "_view_count": null,
            "_view_module": "@jupyter-widgets/base",
            "_view_module_version": "1.2.0",
            "_view_name": "LayoutView",
            "align_content": null,
            "align_items": null,
            "align_self": null,
            "border": null,
            "bottom": null,
            "display": null,
            "flex": null,
            "flex_flow": null,
            "grid_area": null,
            "grid_auto_columns": null,
            "grid_auto_flow": null,
            "grid_auto_rows": null,
            "grid_column": null,
            "grid_gap": null,
            "grid_row": null,
            "grid_template_areas": null,
            "grid_template_columns": null,
            "grid_template_rows": null,
            "height": null,
            "justify_content": null,
            "justify_items": null,
            "left": null,
            "margin": null,
            "max_height": null,
            "max_width": null,
            "min_height": null,
            "min_width": null,
            "object_fit": null,
            "object_position": null,
            "order": null,
            "overflow": null,
            "overflow_x": null,
            "overflow_y": null,
            "padding": null,
            "right": null,
            "top": null,
            "visibility": null,
            "width": null
          }
        },
        "e44caa4f83594150a69110c5c9612706": {
          "model_module": "@jupyter-widgets/base",
          "model_module_version": "1.2.0",
          "model_name": "LayoutModel",
          "state": {
            "_model_module": "@jupyter-widgets/base",
            "_model_module_version": "1.2.0",
            "_model_name": "LayoutModel",
            "_view_count": null,
            "_view_module": "@jupyter-widgets/base",
            "_view_module_version": "1.2.0",
            "_view_name": "LayoutView",
            "align_content": null,
            "align_items": null,
            "align_self": null,
            "border": null,
            "bottom": null,
            "display": null,
            "flex": null,
            "flex_flow": null,
            "grid_area": null,
            "grid_auto_columns": null,
            "grid_auto_flow": null,
            "grid_auto_rows": null,
            "grid_column": null,
            "grid_gap": null,
            "grid_row": null,
            "grid_template_areas": null,
            "grid_template_columns": null,
            "grid_template_rows": null,
            "height": null,
            "justify_content": null,
            "justify_items": null,
            "left": null,
            "margin": null,
            "max_height": null,
            "max_width": null,
            "min_height": null,
            "min_width": null,
            "object_fit": null,
            "object_position": null,
            "order": null,
            "overflow": null,
            "overflow_x": null,
            "overflow_y": null,
            "padding": null,
            "right": null,
            "top": null,
            "visibility": null,
            "width": null
          }
        }
      }
    }
  },
  "nbformat": 4,
  "nbformat_minor": 0
}

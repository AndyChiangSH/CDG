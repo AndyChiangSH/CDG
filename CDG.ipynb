{
  "cells": [
    {
      "cell_type": "markdown",
      "metadata": {
        "id": "t1wc1ZujyMNh"
      },
      "source": [
        "# 克漏字干擾選項生成"
      ]
    },
    {
      "cell_type": "markdown",
      "metadata": {
        "id": "NNiNaZ1X0p2l"
      },
      "source": [
        "## 測試資料"
      ]
    },
    {
      "cell_type": "code",
      "execution_count": 2,
      "metadata": {
        "id": "MqBBdWjF0s3V"
      },
      "outputs": [],
      "source": [
        "text1 = \"To make Jane live a [MASK] life, Mother was very careful about spending money. [SEP] happy\"\n",
        "# \"happy\" -> \"poor\", \"busy\", \"sad\"\n",
        "text2 = \"[MASK] , Jane didn't understand her. [SEP] However\"\n",
        "# \"However\" -> \"Though\", \"Although\", \"Or\"\n",
        "text3 = \"Every day Mother was busy with her [MASK] while Jane was studying at school, so they had little time to enjoy themselves. [SEP] work\"\n",
        "# \"work\" -> \"writing\", \"housework\", \"research\"\n",
        "text4 = \"One day, Mother realized Jane was unhappy and even [MASK] to her. [SEP] unfriendly\"\n",
        "# \"unfriendly\" -> \"loyal\", \"kind\", \"cruel\"\n",
        "text5 = \"The wait seemed [MASK] . [SEP] endless\"\n",
        "# \"endless\" -> \"meaningless\", \"useless\", \"careless\"\n",
        "text6 = \"The old man was waiting for a ride across the [MASK] . [SEP] river\"\n",
        "# \"river\" -> \"town\", \"country\", \"island\"\n",
        "text7 = \"I felt uncomfortable and out of place as the professor carefully [MASK] what she expected us to learn. [SEP] explained\"\n",
        "# \"explained\" -> \"showed\", \"designed\", \"offered\"\n",
        "text8 = \"As I listened, I couldn't help but [MASK] of my own oldest daughter. [SEP] think\"\n",
        "# \"think\" -> \"speak\", \"talk\", \"hear\"\n",
        "text9 = \"As I listened, I couldn't help but think of my own oldest daughter who was now beginning her first year in [MASK], just like me. [SEP] college\"\n",
        "# \"college\" -> \"school\", \"office\", \"classroom\"\n",
        "text10 = \"Today morning, I saw a [MASK] sitting on the wall. [SEP] cat\"\n",
        "text11 = \"Ukrainian presidential adviser says situation is ' [MASK] control' in suburbs and outskirts of Kyiv. [SEP] under\"\n",
        "text12 = \"I don't think that after what is [MASK] now, Ukraine has weak positions. [SEP] happening\""
      ]
    },
    {
      "cell_type": "markdown",
      "metadata": {
        "id": "8aEwIB94yuVn"
      },
      "source": [
        "## Candidate Set Generator (CSG)\n",
        "\n",
        "使用BERT預訓練模型，生成CS。"
      ]
    },
    {
      "cell_type": "markdown",
      "metadata": {
        "id": "cKtTacFszaFj"
      },
      "source": [
        "### 引用相關套件"
      ]
    },
    {
      "cell_type": "code",
      "execution_count": 3,
      "metadata": {
        "id": "ry86IFrPzbn4"
      },
      "outputs": [],
      "source": [
        "from tqdm.notebook import tqdm\n",
        "import os"
      ]
    },
    {
      "cell_type": "markdown",
      "metadata": {
        "id": "GolSA9-MVXox"
      },
      "source": [
        "### 載入CSG模型\n",
        "\n",
        "* BERT_model: BERT + 3 distractors"
      ]
    },
    {
      "cell_type": "code",
      "execution_count": 4,
      "metadata": {
        "colab": {
          "base_uri": "https://localhost:8080/",
          "height": 1000,
          "referenced_widgets": [
            "13a6bbca8fe44a96a8265390874d0cc3",
            "760af93c66484f75b5698af259c96d6c",
            "5dfdb6ed6ea04b50b489432798d70555",
            "75c0744f5df244e29dff4a90e3e2460f",
            "394dae1a42dc4de888d898855309eeac",
            "9df003cfce844e629fcb9a149d735731",
            "09d6a08bc4ff4e1c9db722171c092247",
            "265b43d0e7134abbacb8693a2c6387da",
            "d1cbd3beb71a4903b30573e9dd8c3554",
            "765099c25ee64eafaab26ae21534417d",
            "e44caa4f83594150a69110c5c9612706",
            "604d98e8d1994ed7a7ab31f15e572cce",
            "d54d9712c56f4fbf9b08fa9222bb1ea9",
            "723dbc96fab04b9a94d6b8ba4cc96f74",
            "b88dea4099cc4d43a8b8315fe9bc8eb3",
            "4a0dd0b2bb074f23a6d2b634a134c233",
            "d3422d6801414024a0f8f7a65548d2b9",
            "94c5ecd282a74afdbf0539d8f717ea5c",
            "68edf999a09e4bffae1260c31bd7a9bc",
            "45088d1a68024956869c026c57f7595d",
            "869b00af41184c5f842f2630ea28cf2a",
            "b43c1f52f2dd497c8e8de5d46e1b2e99",
            "d17c9387fcbd40408a8da94e14dc15e6",
            "b7410d9320be4d0cab120d1cbcf53d2f",
            "971ebe8183e74dd5afe9e669436d8827",
            "18185801a4184d2fa0f0a3a408ce52f4",
            "862da95861ce4610a5e6299be33cddce",
            "4cc0a6159ee4424abdc2d7470bfa2bee",
            "bd1bd2cd6d8542f9bb724bbe4decc662",
            "c2fc82e1756b4d06bb62b0403e7ccfee",
            "b200f61879354d4780955f0c70415fd6",
            "57419a3899a24cad8bb50ff3abd53eea",
            "317ed13a365d432f9024d60a0db890c5"
          ]
        },
        "id": "9rIV2AAly0U_",
        "outputId": "37932414-d4cf-43d2-814d-06abf4ac4165"
      },
      "outputs": [
        {
          "name": "stderr",
          "output_type": "stream",
          "text": [
            "WARNING:root:Limited tf.compat.v2.summary API due to missing TensorBoard installation.\n",
            "WARNING:root:Limited tf.compat.v2.summary API due to missing TensorBoard installation.\n",
            "WARNING:root:Limited tf.compat.v2.summary API due to missing TensorBoard installation.\n",
            "WARNING:root:Limited tf.summary API due to missing TensorBoard installation.\n"
          ]
        },
        {
          "data": {
            "text/plain": [
              "BertForMaskedLM(\n",
              "  (bert): BertModel(\n",
              "    (embeddings): BertEmbeddings(\n",
              "      (word_embeddings): Embedding(30522, 768, padding_idx=0)\n",
              "      (position_embeddings): Embedding(512, 768)\n",
              "      (token_type_embeddings): Embedding(2, 768)\n",
              "      (LayerNorm): LayerNorm((768,), eps=1e-12, elementwise_affine=True)\n",
              "      (dropout): Dropout(p=0.1, inplace=False)\n",
              "    )\n",
              "    (encoder): BertEncoder(\n",
              "      (layer): ModuleList(\n",
              "        (0): BertLayer(\n",
              "          (attention): BertAttention(\n",
              "            (self): BertSelfAttention(\n",
              "              (query): Linear(in_features=768, out_features=768, bias=True)\n",
              "              (key): Linear(in_features=768, out_features=768, bias=True)\n",
              "              (value): Linear(in_features=768, out_features=768, bias=True)\n",
              "              (dropout): Dropout(p=0.1, inplace=False)\n",
              "            )\n",
              "            (output): BertSelfOutput(\n",
              "              (dense): Linear(in_features=768, out_features=768, bias=True)\n",
              "              (LayerNorm): LayerNorm((768,), eps=1e-12, elementwise_affine=True)\n",
              "              (dropout): Dropout(p=0.1, inplace=False)\n",
              "            )\n",
              "          )\n",
              "          (intermediate): BertIntermediate(\n",
              "            (dense): Linear(in_features=768, out_features=3072, bias=True)\n",
              "            (intermediate_act_fn): GELUActivation()\n",
              "          )\n",
              "          (output): BertOutput(\n",
              "            (dense): Linear(in_features=3072, out_features=768, bias=True)\n",
              "            (LayerNorm): LayerNorm((768,), eps=1e-12, elementwise_affine=True)\n",
              "            (dropout): Dropout(p=0.1, inplace=False)\n",
              "          )\n",
              "        )\n",
              "        (1): BertLayer(\n",
              "          (attention): BertAttention(\n",
              "            (self): BertSelfAttention(\n",
              "              (query): Linear(in_features=768, out_features=768, bias=True)\n",
              "              (key): Linear(in_features=768, out_features=768, bias=True)\n",
              "              (value): Linear(in_features=768, out_features=768, bias=True)\n",
              "              (dropout): Dropout(p=0.1, inplace=False)\n",
              "            )\n",
              "            (output): BertSelfOutput(\n",
              "              (dense): Linear(in_features=768, out_features=768, bias=True)\n",
              "              (LayerNorm): LayerNorm((768,), eps=1e-12, elementwise_affine=True)\n",
              "              (dropout): Dropout(p=0.1, inplace=False)\n",
              "            )\n",
              "          )\n",
              "          (intermediate): BertIntermediate(\n",
              "            (dense): Linear(in_features=768, out_features=3072, bias=True)\n",
              "            (intermediate_act_fn): GELUActivation()\n",
              "          )\n",
              "          (output): BertOutput(\n",
              "            (dense): Linear(in_features=3072, out_features=768, bias=True)\n",
              "            (LayerNorm): LayerNorm((768,), eps=1e-12, elementwise_affine=True)\n",
              "            (dropout): Dropout(p=0.1, inplace=False)\n",
              "          )\n",
              "        )\n",
              "        (2): BertLayer(\n",
              "          (attention): BertAttention(\n",
              "            (self): BertSelfAttention(\n",
              "              (query): Linear(in_features=768, out_features=768, bias=True)\n",
              "              (key): Linear(in_features=768, out_features=768, bias=True)\n",
              "              (value): Linear(in_features=768, out_features=768, bias=True)\n",
              "              (dropout): Dropout(p=0.1, inplace=False)\n",
              "            )\n",
              "            (output): BertSelfOutput(\n",
              "              (dense): Linear(in_features=768, out_features=768, bias=True)\n",
              "              (LayerNorm): LayerNorm((768,), eps=1e-12, elementwise_affine=True)\n",
              "              (dropout): Dropout(p=0.1, inplace=False)\n",
              "            )\n",
              "          )\n",
              "          (intermediate): BertIntermediate(\n",
              "            (dense): Linear(in_features=768, out_features=3072, bias=True)\n",
              "            (intermediate_act_fn): GELUActivation()\n",
              "          )\n",
              "          (output): BertOutput(\n",
              "            (dense): Linear(in_features=3072, out_features=768, bias=True)\n",
              "            (LayerNorm): LayerNorm((768,), eps=1e-12, elementwise_affine=True)\n",
              "            (dropout): Dropout(p=0.1, inplace=False)\n",
              "          )\n",
              "        )\n",
              "        (3): BertLayer(\n",
              "          (attention): BertAttention(\n",
              "            (self): BertSelfAttention(\n",
              "              (query): Linear(in_features=768, out_features=768, bias=True)\n",
              "              (key): Linear(in_features=768, out_features=768, bias=True)\n",
              "              (value): Linear(in_features=768, out_features=768, bias=True)\n",
              "              (dropout): Dropout(p=0.1, inplace=False)\n",
              "            )\n",
              "            (output): BertSelfOutput(\n",
              "              (dense): Linear(in_features=768, out_features=768, bias=True)\n",
              "              (LayerNorm): LayerNorm((768,), eps=1e-12, elementwise_affine=True)\n",
              "              (dropout): Dropout(p=0.1, inplace=False)\n",
              "            )\n",
              "          )\n",
              "          (intermediate): BertIntermediate(\n",
              "            (dense): Linear(in_features=768, out_features=3072, bias=True)\n",
              "            (intermediate_act_fn): GELUActivation()\n",
              "          )\n",
              "          (output): BertOutput(\n",
              "            (dense): Linear(in_features=3072, out_features=768, bias=True)\n",
              "            (LayerNorm): LayerNorm((768,), eps=1e-12, elementwise_affine=True)\n",
              "            (dropout): Dropout(p=0.1, inplace=False)\n",
              "          )\n",
              "        )\n",
              "        (4): BertLayer(\n",
              "          (attention): BertAttention(\n",
              "            (self): BertSelfAttention(\n",
              "              (query): Linear(in_features=768, out_features=768, bias=True)\n",
              "              (key): Linear(in_features=768, out_features=768, bias=True)\n",
              "              (value): Linear(in_features=768, out_features=768, bias=True)\n",
              "              (dropout): Dropout(p=0.1, inplace=False)\n",
              "            )\n",
              "            (output): BertSelfOutput(\n",
              "              (dense): Linear(in_features=768, out_features=768, bias=True)\n",
              "              (LayerNorm): LayerNorm((768,), eps=1e-12, elementwise_affine=True)\n",
              "              (dropout): Dropout(p=0.1, inplace=False)\n",
              "            )\n",
              "          )\n",
              "          (intermediate): BertIntermediate(\n",
              "            (dense): Linear(in_features=768, out_features=3072, bias=True)\n",
              "            (intermediate_act_fn): GELUActivation()\n",
              "          )\n",
              "          (output): BertOutput(\n",
              "            (dense): Linear(in_features=3072, out_features=768, bias=True)\n",
              "            (LayerNorm): LayerNorm((768,), eps=1e-12, elementwise_affine=True)\n",
              "            (dropout): Dropout(p=0.1, inplace=False)\n",
              "          )\n",
              "        )\n",
              "        (5): BertLayer(\n",
              "          (attention): BertAttention(\n",
              "            (self): BertSelfAttention(\n",
              "              (query): Linear(in_features=768, out_features=768, bias=True)\n",
              "              (key): Linear(in_features=768, out_features=768, bias=True)\n",
              "              (value): Linear(in_features=768, out_features=768, bias=True)\n",
              "              (dropout): Dropout(p=0.1, inplace=False)\n",
              "            )\n",
              "            (output): BertSelfOutput(\n",
              "              (dense): Linear(in_features=768, out_features=768, bias=True)\n",
              "              (LayerNorm): LayerNorm((768,), eps=1e-12, elementwise_affine=True)\n",
              "              (dropout): Dropout(p=0.1, inplace=False)\n",
              "            )\n",
              "          )\n",
              "          (intermediate): BertIntermediate(\n",
              "            (dense): Linear(in_features=768, out_features=3072, bias=True)\n",
              "            (intermediate_act_fn): GELUActivation()\n",
              "          )\n",
              "          (output): BertOutput(\n",
              "            (dense): Linear(in_features=3072, out_features=768, bias=True)\n",
              "            (LayerNorm): LayerNorm((768,), eps=1e-12, elementwise_affine=True)\n",
              "            (dropout): Dropout(p=0.1, inplace=False)\n",
              "          )\n",
              "        )\n",
              "        (6): BertLayer(\n",
              "          (attention): BertAttention(\n",
              "            (self): BertSelfAttention(\n",
              "              (query): Linear(in_features=768, out_features=768, bias=True)\n",
              "              (key): Linear(in_features=768, out_features=768, bias=True)\n",
              "              (value): Linear(in_features=768, out_features=768, bias=True)\n",
              "              (dropout): Dropout(p=0.1, inplace=False)\n",
              "            )\n",
              "            (output): BertSelfOutput(\n",
              "              (dense): Linear(in_features=768, out_features=768, bias=True)\n",
              "              (LayerNorm): LayerNorm((768,), eps=1e-12, elementwise_affine=True)\n",
              "              (dropout): Dropout(p=0.1, inplace=False)\n",
              "            )\n",
              "          )\n",
              "          (intermediate): BertIntermediate(\n",
              "            (dense): Linear(in_features=768, out_features=3072, bias=True)\n",
              "            (intermediate_act_fn): GELUActivation()\n",
              "          )\n",
              "          (output): BertOutput(\n",
              "            (dense): Linear(in_features=3072, out_features=768, bias=True)\n",
              "            (LayerNorm): LayerNorm((768,), eps=1e-12, elementwise_affine=True)\n",
              "            (dropout): Dropout(p=0.1, inplace=False)\n",
              "          )\n",
              "        )\n",
              "        (7): BertLayer(\n",
              "          (attention): BertAttention(\n",
              "            (self): BertSelfAttention(\n",
              "              (query): Linear(in_features=768, out_features=768, bias=True)\n",
              "              (key): Linear(in_features=768, out_features=768, bias=True)\n",
              "              (value): Linear(in_features=768, out_features=768, bias=True)\n",
              "              (dropout): Dropout(p=0.1, inplace=False)\n",
              "            )\n",
              "            (output): BertSelfOutput(\n",
              "              (dense): Linear(in_features=768, out_features=768, bias=True)\n",
              "              (LayerNorm): LayerNorm((768,), eps=1e-12, elementwise_affine=True)\n",
              "              (dropout): Dropout(p=0.1, inplace=False)\n",
              "            )\n",
              "          )\n",
              "          (intermediate): BertIntermediate(\n",
              "            (dense): Linear(in_features=768, out_features=3072, bias=True)\n",
              "            (intermediate_act_fn): GELUActivation()\n",
              "          )\n",
              "          (output): BertOutput(\n",
              "            (dense): Linear(in_features=3072, out_features=768, bias=True)\n",
              "            (LayerNorm): LayerNorm((768,), eps=1e-12, elementwise_affine=True)\n",
              "            (dropout): Dropout(p=0.1, inplace=False)\n",
              "          )\n",
              "        )\n",
              "        (8): BertLayer(\n",
              "          (attention): BertAttention(\n",
              "            (self): BertSelfAttention(\n",
              "              (query): Linear(in_features=768, out_features=768, bias=True)\n",
              "              (key): Linear(in_features=768, out_features=768, bias=True)\n",
              "              (value): Linear(in_features=768, out_features=768, bias=True)\n",
              "              (dropout): Dropout(p=0.1, inplace=False)\n",
              "            )\n",
              "            (output): BertSelfOutput(\n",
              "              (dense): Linear(in_features=768, out_features=768, bias=True)\n",
              "              (LayerNorm): LayerNorm((768,), eps=1e-12, elementwise_affine=True)\n",
              "              (dropout): Dropout(p=0.1, inplace=False)\n",
              "            )\n",
              "          )\n",
              "          (intermediate): BertIntermediate(\n",
              "            (dense): Linear(in_features=768, out_features=3072, bias=True)\n",
              "            (intermediate_act_fn): GELUActivation()\n",
              "          )\n",
              "          (output): BertOutput(\n",
              "            (dense): Linear(in_features=3072, out_features=768, bias=True)\n",
              "            (LayerNorm): LayerNorm((768,), eps=1e-12, elementwise_affine=True)\n",
              "            (dropout): Dropout(p=0.1, inplace=False)\n",
              "          )\n",
              "        )\n",
              "        (9): BertLayer(\n",
              "          (attention): BertAttention(\n",
              "            (self): BertSelfAttention(\n",
              "              (query): Linear(in_features=768, out_features=768, bias=True)\n",
              "              (key): Linear(in_features=768, out_features=768, bias=True)\n",
              "              (value): Linear(in_features=768, out_features=768, bias=True)\n",
              "              (dropout): Dropout(p=0.1, inplace=False)\n",
              "            )\n",
              "            (output): BertSelfOutput(\n",
              "              (dense): Linear(in_features=768, out_features=768, bias=True)\n",
              "              (LayerNorm): LayerNorm((768,), eps=1e-12, elementwise_affine=True)\n",
              "              (dropout): Dropout(p=0.1, inplace=False)\n",
              "            )\n",
              "          )\n",
              "          (intermediate): BertIntermediate(\n",
              "            (dense): Linear(in_features=768, out_features=3072, bias=True)\n",
              "            (intermediate_act_fn): GELUActivation()\n",
              "          )\n",
              "          (output): BertOutput(\n",
              "            (dense): Linear(in_features=3072, out_features=768, bias=True)\n",
              "            (LayerNorm): LayerNorm((768,), eps=1e-12, elementwise_affine=True)\n",
              "            (dropout): Dropout(p=0.1, inplace=False)\n",
              "          )\n",
              "        )\n",
              "        (10): BertLayer(\n",
              "          (attention): BertAttention(\n",
              "            (self): BertSelfAttention(\n",
              "              (query): Linear(in_features=768, out_features=768, bias=True)\n",
              "              (key): Linear(in_features=768, out_features=768, bias=True)\n",
              "              (value): Linear(in_features=768, out_features=768, bias=True)\n",
              "              (dropout): Dropout(p=0.1, inplace=False)\n",
              "            )\n",
              "            (output): BertSelfOutput(\n",
              "              (dense): Linear(in_features=768, out_features=768, bias=True)\n",
              "              (LayerNorm): LayerNorm((768,), eps=1e-12, elementwise_affine=True)\n",
              "              (dropout): Dropout(p=0.1, inplace=False)\n",
              "            )\n",
              "          )\n",
              "          (intermediate): BertIntermediate(\n",
              "            (dense): Linear(in_features=768, out_features=3072, bias=True)\n",
              "            (intermediate_act_fn): GELUActivation()\n",
              "          )\n",
              "          (output): BertOutput(\n",
              "            (dense): Linear(in_features=3072, out_features=768, bias=True)\n",
              "            (LayerNorm): LayerNorm((768,), eps=1e-12, elementwise_affine=True)\n",
              "            (dropout): Dropout(p=0.1, inplace=False)\n",
              "          )\n",
              "        )\n",
              "        (11): BertLayer(\n",
              "          (attention): BertAttention(\n",
              "            (self): BertSelfAttention(\n",
              "              (query): Linear(in_features=768, out_features=768, bias=True)\n",
              "              (key): Linear(in_features=768, out_features=768, bias=True)\n",
              "              (value): Linear(in_features=768, out_features=768, bias=True)\n",
              "              (dropout): Dropout(p=0.1, inplace=False)\n",
              "            )\n",
              "            (output): BertSelfOutput(\n",
              "              (dense): Linear(in_features=768, out_features=768, bias=True)\n",
              "              (LayerNorm): LayerNorm((768,), eps=1e-12, elementwise_affine=True)\n",
              "              (dropout): Dropout(p=0.1, inplace=False)\n",
              "            )\n",
              "          )\n",
              "          (intermediate): BertIntermediate(\n",
              "            (dense): Linear(in_features=768, out_features=3072, bias=True)\n",
              "            (intermediate_act_fn): GELUActivation()\n",
              "          )\n",
              "          (output): BertOutput(\n",
              "            (dense): Linear(in_features=3072, out_features=768, bias=True)\n",
              "            (LayerNorm): LayerNorm((768,), eps=1e-12, elementwise_affine=True)\n",
              "            (dropout): Dropout(p=0.1, inplace=False)\n",
              "          )\n",
              "        )\n",
              "      )\n",
              "    )\n",
              "  )\n",
              "  (cls): BertOnlyMLMHead(\n",
              "    (predictions): BertLMPredictionHead(\n",
              "      (transform): BertPredictionHeadTransform(\n",
              "        (dense): Linear(in_features=768, out_features=768, bias=True)\n",
              "        (transform_act_fn): GELUActivation()\n",
              "        (LayerNorm): LayerNorm((768,), eps=1e-12, elementwise_affine=True)\n",
              "      )\n",
              "      (decoder): Linear(in_features=768, out_features=30522, bias=True)\n",
              "    )\n",
              "  )\n",
              ")"
            ]
          },
          "execution_count": 4,
          "metadata": {},
          "output_type": "execute_result"
        }
      ],
      "source": [
        "from transformers import BertTokenizer, BertConfig, BertForMaskedLM, pipeline\n",
        "\n",
        "dir_path = r\"./models/CSG/BERT_model\"\n",
        "\n",
        "tokenizer = BertTokenizer.from_pretrained('bert-base-uncased')\n",
        "config = BertConfig.from_pretrained(os.path.join(dir_path, \"config.json\"))\n",
        "model = BertForMaskedLM.from_pretrained(os.path.join(dir_path, \"pytorch_model.bin\"), from_tf=bool('.ckpt' in 'bert-base-uncased'), config=config)\n",
        "model.eval()"
      ]
    },
    {
      "cell_type": "code",
      "execution_count": 5,
      "metadata": {
        "id": "SOVuvEz-z9OB"
      },
      "outputs": [],
      "source": [
        "my_unmasker = pipeline('fill-mask', tokenizer=tokenizer, config=config, model=model, top_k=10)"
      ]
    },
    {
      "cell_type": "code",
      "execution_count": 6,
      "metadata": {
        "colab": {
          "base_uri": "https://localhost:8080/"
        },
        "id": "lgqx92Fb0Hj4",
        "outputId": "048157d5-0a57-43a8-b4f1-4b511c1810e9"
      },
      "outputs": [
        {
          "data": {
            "text/plain": [
              "[{'score': 0.17808528244495392,\n",
              "  'token': 6517,\n",
              "  'token_str': 's a d',\n",
              "  'sequence': 'to make jane live a sad life, mother was very careful about spending money. happy'},\n",
              " {'score': 0.05460711568593979,\n",
              "  'token': 11771,\n",
              "  'token_str': 'b o r i n g',\n",
              "  'sequence': 'to make jane live a boring life, mother was very careful about spending money. happy'},\n",
              " {'score': 0.04597169905900955,\n",
              "  'token': 5697,\n",
              "  'token_str': 'b u s y',\n",
              "  'sequence': 'to make jane live a busy life, mother was very careful about spending money. happy'},\n",
              " {'score': 0.02937108650803566,\n",
              "  'token': 3407,\n",
              "  'token_str': 'h a p p y',\n",
              "  'sequence': 'to make jane live a happy life, mother was very careful about spending money. happy'},\n",
              " {'score': 0.019477127119898796,\n",
              "  'token': 2919,\n",
              "  'token_str': 'b a d',\n",
              "  'sequence': 'to make jane live a bad life, mother was very careful about spending money. happy'},\n",
              " {'score': 0.01932520419359207,\n",
              "  'token': 4138,\n",
              "  'token_str': 'r i c h',\n",
              "  'sequence': 'to make jane live a rich life, mother was very careful about spending money. happy'},\n",
              " {'score': 0.017796039581298828,\n",
              "  'token': 13971,\n",
              "  'token_str': 'l a z y',\n",
              "  'sequence': 'to make jane live a lazy life, mother was very careful about spending money. happy'},\n",
              " {'score': 0.01709771901369095,\n",
              "  'token': 3671,\n",
              "  'token_str': 'n o r m a l',\n",
              "  'sequence': 'to make jane live a normal life, mother was very careful about spending money. happy'},\n",
              " {'score': 0.01621469482779503,\n",
              "  'token': 3697,\n",
              "  'token_str': 'd i f f i c u l t',\n",
              "  'sequence': 'to make jane live a difficult life, mother was very careful about spending money. happy'},\n",
              " {'score': 0.01619175635278225,\n",
              "  'token': 4326,\n",
              "  'token_str': 's t r a n g e',\n",
              "  'sequence': 'to make jane live a strange life, mother was very careful about spending money. happy'}]"
            ]
          },
          "execution_count": 6,
          "metadata": {},
          "output_type": "execute_result"
        }
      ],
      "source": [
        "my_unmasker(text1)"
      ]
    },
    {
      "cell_type": "markdown",
      "metadata": {
        "id": "zQB5RuFI1rB6"
      },
      "source": [
        "## Candidate Set (CS)\n",
        "\n",
        "* cs = 候選集合(單字&分數)\n",
        "* target_sent = 目標句子\n",
        "* origin_sent = 原始句子\n",
        "* answer = 答案"
      ]
    },
    {
      "cell_type": "code",
      "execution_count": 53,
      "metadata": {
        "colab": {
          "base_uri": "https://localhost:8080/"
        },
        "id": "RomjEX6nofJI",
        "outputId": "8f7e109b-efb9-457d-e9dc-20eaa03b1b02"
      },
      "outputs": [
        {
          "name": "stdout",
          "output_type": "stream",
          "text": [
            "Every day Mother was busy with her [MASK] while Jane was studying at school, so they had little time to enjoy themselves. [SEP] work\n"
          ]
        }
      ],
      "source": [
        "target_sent = text3\n",
        "print(target_sent)"
      ]
    },
    {
      "cell_type": "code",
      "execution_count": 54,
      "metadata": {
        "colab": {
          "base_uri": "https://localhost:8080/"
        },
        "id": "ZVCsDqzsp9iI",
        "outputId": "1f98ea16-aeaf-4aba-a0a9-7da22ec1dc65"
      },
      "outputs": [
        {
          "name": "stdout",
          "output_type": "stream",
          "text": [
            "Every day Mother was busy with her [MASK] while Jane was studying at school, so they had little time to enjoy themselves.\n"
          ]
        }
      ],
      "source": [
        "origin_sent = target_sent.split(\" [SEP] \")[0]\n",
        "print(origin_sent)"
      ]
    },
    {
      "cell_type": "code",
      "execution_count": 55,
      "metadata": {
        "colab": {
          "base_uri": "https://localhost:8080/"
        },
        "id": "odhAp6Pp4lio",
        "outputId": "b115e053-88cd-4137-f3f1-fad7bbd5c3f5"
      },
      "outputs": [
        {
          "name": "stdout",
          "output_type": "stream",
          "text": [
            "work\n"
          ]
        }
      ],
      "source": [
        "answer = target_sent.split(\" [SEP] \")[1]\n",
        "print(answer)"
      ]
    },
    {
      "cell_type": "code",
      "execution_count": 56,
      "metadata": {
        "colab": {
          "base_uri": "https://localhost:8080/"
        },
        "id": "8p1ww9uD4k2m",
        "outputId": "c016a758-5cf1-444b-8b6a-705b2ae58b71"
      },
      "outputs": [
        {
          "name": "stdout",
          "output_type": "stream",
          "text": [
            "[{'word': 'study', 's0': 0.12100302428007126, 's1': 0.0, 's2': 0.0, 's3': 0.0}, {'word': 'homework', 's0': 0.05059974268078804, 's1': 0.0, 's2': 0.0, 's3': 0.0}, {'word': 'work', 's0': 0.043910592794418335, 's1': 0.0, 's2': 0.0, 's3': 0.0}, {'word': 'shopping', 's0': 0.042725447565317154, 's1': 0.0, 's2': 0.0, 's3': 0.0}, {'word': 'school', 's0': 0.025501582771539688, 's1': 0.0, 's2': 0.0, 's3': 0.0}, {'word': 'holiday', 's0': 0.02389630302786827, 's1': 0.0, 's2': 0.0, 's3': 0.0}, {'word': 'class', 's0': 0.02138116955757141, 's1': 0.0, 's2': 0.0, 's3': 0.0}, {'word': 'play', 's0': 0.020853979513049126, 's1': 0.0, 's2': 0.0, 's3': 0.0}, {'word': 'job', 's0': 0.018741538748145103, 's1': 0.0, 's2': 0.0, 's3': 0.0}, {'word': 'exercise', 's0': 0.018560459837317467, 's1': 0.0, 's2': 0.0, 's3': 0.0}]\n"
          ]
        }
      ],
      "source": [
        "cs = list()\n",
        "\n",
        "for cand in my_unmasker(target_sent):\n",
        "    cs.append({\"word\": cand[\"token_str\"].replace(\" \", \"\"), \"s0\": cand[\"score\"], \"s1\": 0.0, \"s2\": 0.0, \"s3\": 0.0})\n",
        "\n",
        "print(cs)"
      ]
    },
    {
      "cell_type": "markdown",
      "metadata": {
        "id": "5fmS9vqDbUFG"
      },
      "source": [
        "## Distractor Selector (DS)\n",
        "\n",
        "四種評分標準：\n",
        "\n",
        "1. 單字相似度：和答案越接近，分數越低\n",
        "2. 句子相似度：和答案的句子越接近，分數越低\n",
        "3. 詞性相似度：和答案詞性相同，分數越高\n",
        "4. 型態相似度(skip!)：字串長度相同、字首字尾相同，分數越高"
      ]
    },
    {
      "cell_type": "markdown",
      "metadata": {
        "id": "X8N86qMGqJiE"
      },
      "source": [
        "### 載入fastText模型"
      ]
    },
    {
      "cell_type": "code",
      "execution_count": 40,
      "metadata": {
        "colab": {
          "base_uri": "https://localhost:8080/"
        },
        "id": "Ui8Oo1Eoqc5M",
        "outputId": "3ad1e228-8b0b-4d44-fae4-b4f8c83d89dc"
      },
      "outputs": [
        {
          "name": "stderr",
          "output_type": "stream",
          "text": [
            "Warning : `load_model` does not return WordVectorModel or SupervisedModel any more, but a `FastText` object which is very similar.\n"
          ]
        }
      ],
      "source": [
        "import fasttext\n",
        "import warnings\n",
        "\n",
        "model_path = r\"./models/DS/fasttext_model/wiki_en_ft_model01.bin\"\n",
        "\n",
        "model = fasttext.load_model(model_path)\n",
        "warnings.filterwarnings(\"ignore\", category=FutureWarning)"
      ]
    },
    {
      "cell_type": "markdown",
      "metadata": {
        "id": "WOZTGiISqiCO"
      },
      "source": [
        "### 兩向量距離公式(cosine similarity)"
      ]
    },
    {
      "cell_type": "code",
      "execution_count": 14,
      "metadata": {
        "id": "7Fi7Y7bpq01A"
      },
      "outputs": [],
      "source": [
        "import numpy as np\n",
        "\n",
        "def similarity(v1, v2):\n",
        "    n1 = np.linalg.norm(v1)\n",
        "    n2 = np.linalg.norm(v2)\n",
        "    return np.dot(v1, v2) / n1 / n2"
      ]
    },
    {
      "cell_type": "markdown",
      "metadata": {
        "id": "uOprpwJPf5eq"
      },
      "source": [
        "### 資料標準化"
      ]
    },
    {
      "cell_type": "markdown",
      "metadata": {
        "id": "99Mxtt4hgBr2"
      },
      "source": [
        "#### Min-Max"
      ]
    },
    {
      "cell_type": "code",
      "execution_count": 15,
      "metadata": {
        "id": "eDQCpfX0-xYM"
      },
      "outputs": [],
      "source": [
        "# Min-Max 歸一化\n",
        "def min_max_y(raw_data):\n",
        "  # 裝進標準化後的新串列\n",
        "  min_max_data = []\n",
        "  \n",
        "  # 進行Min-Max標準化\n",
        "  for d in raw_data:\n",
        "    min_max_data.append((d - min(raw_data)) / (max(raw_data) - min(raw_data)))\n",
        "             \n",
        "  # 回傳結果\n",
        "  return min_max_data"
      ]
    },
    {
      "cell_type": "markdown",
      "metadata": {
        "id": "LzmYNKL_gEjc"
      },
      "source": [
        "#### Z-Score"
      ]
    },
    {
      "cell_type": "code",
      "execution_count": 35,
      "metadata": {
        "id": "K4Z3qZWk-AKR"
      },
      "outputs": [],
      "source": [
        "import math\n",
        "\n",
        "# Z-Score標準化\n",
        "def z_score_y(raw_data):\n",
        "  print(raw_data)\n",
        "  # 計算數據平均數\n",
        "  total = 0\n",
        "  for d in raw_data:\n",
        "    total += d\n",
        "  aver = total/len(raw_data)\n",
        "  \n",
        "  # 計算所有數據減掉平均數的平方相加\n",
        "  data_s = 0\n",
        "  for s in raw_data:\n",
        "    data_s += (s - aver)**2\n",
        "  \n",
        "  # 計算剛剛的結果除以數據總數開根號即為標準差\n",
        "  std = math.sqrt(data_s/len(raw_data))\n",
        "  \n",
        "  # 將每個數據減掉平均數除以標準差成為新的數據串列\n",
        "  # 裝新的標準化後的數據串列\n",
        "  z_score_data = []\n",
        "  for z in raw_data:\n",
        "    z_score_data.append((z - aver)/std)\n",
        "  \n",
        "  # 回傳結果\n",
        "  return z_score_data"
      ]
    },
    {
      "cell_type": "markdown",
      "metadata": {
        "id": "dSDl5ZQrgN28"
      },
      "source": [
        "### 0.模型信心分數"
      ]
    },
    {
      "cell_type": "code",
      "execution_count": 57,
      "metadata": {
        "colab": {
          "base_uri": "https://localhost:8080/"
        },
        "id": "AxqvodkNgMeV",
        "outputId": "f5aa33ec-22ed-436d-d163-36490b711b70"
      },
      "outputs": [
        {
          "name": "stdout",
          "output_type": "stream",
          "text": [
            "study 1.0\n",
            "homework 0.3127536197258566\n",
            "work 0.24745703209398712\n",
            "shopping 0.23588815703167398\n",
            "school 0.06775623952776982\n",
            "holiday 0.052086193073900854\n",
            "class 0.027534548120671\n",
            "play 0.02238834695526689\n",
            "job 0.0017676139972933411\n",
            "exercise 0.0\n"
          ]
        }
      ],
      "source": [
        "s0s = [c[\"s0\"] for c in cs]\n",
        "new_s0s = min_max_y(s0s)\n",
        "\n",
        "for i, c in enumerate(cs):\n",
        "    print(c[\"word\"], new_s0s[i])\n",
        "    c[\"s0\"] = new_s0s[i]"
      ]
    },
    {
      "cell_type": "markdown",
      "metadata": {
        "id": "uxPzPnsHquLx"
      },
      "source": [
        "### 1.單字相似度"
      ]
    },
    {
      "cell_type": "code",
      "execution_count": 58,
      "metadata": {
        "colab": {
          "base_uri": "https://localhost:8080/"
        },
        "id": "c_Rybw54q-8d",
        "outputId": "51493cd1-2ce4-4774-a172-f3b77f925e71"
      },
      "outputs": [
        {
          "name": "stdout",
          "output_type": "stream",
          "text": [
            "work\n",
            "----------------------------------------------------------------------------------------------------\n",
            "study 0.3014785647392273 0.434622585773468\n",
            "homework 0.343461275100708 0.49514639377593994\n",
            "work 5.960464477539063e-08 0.0\n",
            "shopping 0.6602155566215515 0.9517910294234753\n",
            "school 0.6469024419784546 0.932598352432251\n",
            "holiday 0.6936559975147247 1.0\n",
            "class 0.6923563182353973 0.9981263345107436\n",
            "play 0.5733073353767395 0.8265009373426437\n",
            "job 0.4977574944496155 0.7175855040550232\n",
            "exercise 0.5173404812812805 0.7458170652389526\n"
          ]
        }
      ],
      "source": [
        "print(answer)\n",
        "print(\"-\"*100)\n",
        "answer_vector = model.get_word_vector(answer)\n",
        "\n",
        "word_similarities = list()\n",
        "for c in cs:\n",
        "  c_vector = model.get_word_vector(c[\"word\"])\n",
        "  word_similarity = similarity(answer_vector, c_vector)\n",
        "  word_similarities.append(word_similarity)\n",
        "\n",
        "new_similarities = min_max_y(word_similarities)\n",
        "\n",
        "for i, c in enumerate(cs):\n",
        "    print(c[\"word\"], 1-word_similarities[i], 1-new_similarities[i])\n",
        "    c[\"s2\"] = 1-new_similarities[i]"
      ]
    },
    {
      "cell_type": "markdown",
      "metadata": {
        "id": "VngDSn9krED-"
      },
      "source": [
        "### 2.句子相似度\n",
        "\n",
        "* correct_sent = 填入正確答案句子\n",
        "* cand_sents = 填入候選詞句子"
      ]
    },
    {
      "cell_type": "code",
      "execution_count": 59,
      "metadata": {
        "colab": {
          "base_uri": "https://localhost:8080/"
        },
        "id": "5BMQePMprGsL",
        "outputId": "a52c2611-6373-4bef-e7c0-9167fb0e43b9"
      },
      "outputs": [
        {
          "name": "stdout",
          "output_type": "stream",
          "text": [
            "Every day Mother was busy with her work while Jane was studying at school, so they had little time to enjoy themselves.\n",
            "----------------------------------------------------------------------------------------------------\n",
            "Every day Mother was busy with her study while Jane was studying at school, so they had little time to enjoy themselves. 0.0013530254364013672 0.4182635545730591\n",
            "Every day Mother was busy with her homework while Jane was studying at school, so they had little time to enjoy themselves. 0.0015887618064880371 0.49113720655441284\n",
            "Every day Mother was busy with her work while Jane was studying at school, so they had little time to enjoy themselves. 0.0 0.0\n",
            "Every day Mother was busy with her shopping while Jane was studying at school, so they had little time to enjoy themselves. 0.0030781030654907227 0.9515403881669044\n",
            "Every day Mother was busy with her school while Jane was studying at school, so they had little time to enjoy themselves. 0.0029854178428649902 0.9228884130716324\n",
            "Every day Mother was busy with her holiday while Jane was studying at school, so they had little time to enjoy themselves. 0.00323486328125 1.0\n",
            "Every day Mother was busy with her class while Jane was studying at school, so they had little time to enjoy themselves. 0.0031818151473999023 0.9836011193692684\n",
            "Every day Mother was busy with her play while Jane was studying at school, so they had little time to enjoy themselves. 0.002652287483215332 0.8199071288108826\n",
            "Every day Mother was busy with her job while Jane was studying at school, so they had little time to enjoy themselves. 0.002299487590789795 0.7108453810214996\n",
            "Every day Mother was busy with her exercise while Jane was studying at school, so they had little time to enjoy themselves. 0.002408623695373535 0.7445828318595886\n"
          ]
        }
      ],
      "source": [
        "#依據訓練過後的BERT所生成選項放入句子做比較\n",
        "correct_sent = origin_sent.replace('[MASK]', answer)\n",
        "print(correct_sent)\n",
        "print(\"-\"*100)\n",
        "correct_sent_vector = model.get_sentence_vector(correct_sent)\n",
        "\n",
        "cand_sents = list()\n",
        "for c in cs:\n",
        "  cand_sents.append(origin_sent.replace('[MASK]', c[\"word\"]))\n",
        "\n",
        "sent_similarities = list()\n",
        "#兩句子距離\n",
        "for cand_sent in cand_sents:\n",
        "  cand_sent_vector = model.get_sentence_vector(cand_sent)\n",
        "  sent_similarity = similarity(correct_sent_vector, cand_sent_vector)\n",
        "  sent_similarities.append(sent_similarity)\n",
        "\n",
        "new_similarities = min_max_y(sent_similarities)\n",
        "for i, c in enumerate(cs):\n",
        "    print(cand_sents[i], 1-sent_similarities[i], 1-new_similarities[i])\n",
        "    c[\"s2\"] = 1-new_similarities[i]"
      ]
    },
    {
      "cell_type": "markdown",
      "metadata": {
        "id": "-hWeywrsseyQ"
      },
      "source": [
        "### 3.詞性相似度"
      ]
    },
    {
      "cell_type": "code",
      "execution_count": 60,
      "metadata": {
        "colab": {
          "base_uri": "https://localhost:8080/"
        },
        "id": "hM5ESPedBhS-",
        "outputId": "b59d2014-8470-49c3-bab8-44c1a0e3a0c6"
      },
      "outputs": [
        {
          "name": "stderr",
          "output_type": "stream",
          "text": [
            "[nltk_data] Downloading package punkt to\n",
            "[nltk_data]     C:\\Users\\andy1\\AppData\\Roaming\\nltk_data...\n",
            "[nltk_data]   Package punkt is already up-to-date!\n",
            "[nltk_data] Downloading package averaged_perceptron_tagger to\n",
            "[nltk_data]     C:\\Users\\andy1\\AppData\\Roaming\\nltk_data...\n",
            "[nltk_data]   Package averaged_perceptron_tagger is already up-to-\n",
            "[nltk_data]       date!\n"
          ]
        },
        {
          "data": {
            "text/plain": [
              "True"
            ]
          },
          "execution_count": 60,
          "metadata": {},
          "output_type": "execute_result"
        }
      ],
      "source": [
        "import nltk\n",
        "from nltk.tokenize import word_tokenize\n",
        "\n",
        "nltk.download('punkt')\n",
        "nltk.download('averaged_perceptron_tagger')"
      ]
    },
    {
      "cell_type": "code",
      "execution_count": 61,
      "metadata": {
        "colab": {
          "base_uri": "https://localhost:8080/"
        },
        "id": "YXT91qfgB8Sh",
        "outputId": "445936c8-d4cf-4cd1-f6ad-427f4f5a125f"
      },
      "outputs": [
        {
          "name": "stdout",
          "output_type": "stream",
          "text": [
            "('work', 'NN')\n",
            "----------------------------------------------------------------------------------------------------\n",
            "('study', 'NN') 1.0\n",
            "('homework', 'NN') 1.0\n",
            "('work', 'NN') 1.0\n",
            "('shopping', 'NN') 1.0\n",
            "('school', 'NN') 1.0\n",
            "('holiday', 'NN') 1.0\n",
            "('class', 'NN') 1.0\n",
            "('play', 'NN') 1.0\n",
            "('job', 'NN') 1.0\n",
            "('exercise', 'NN') 1.0\n"
          ]
        }
      ],
      "source": [
        "origin_token = word_tokenize(origin_sent)\n",
        "origin_token.remove(\"[\")\n",
        "origin_token.remove(\"]\")\n",
        "# print(origin_token)\n",
        "\n",
        "mask_index = origin_token.index(\"MASK\")\n",
        "# print(mask_index)\n",
        "\n",
        "correct_token = word_tokenize(correct_sent)\n",
        "# print(correct_token)\n",
        "correct_pos = nltk.pos_tag(correct_token)\n",
        "# print(correct_pos)\n",
        "\n",
        "answer_pos = correct_pos[mask_index]\n",
        "print(answer_pos)\n",
        "print(\"-\"*100)\n",
        "\n",
        "for i, c in enumerate(cs):\n",
        "    cand_sent_token = word_tokenize(cand_sents[i])\n",
        "    cand_sent_pos = nltk.pos_tag(cand_sent_token)\n",
        "    cand_pos = cand_sent_pos[mask_index]\n",
        "\n",
        "    if cand_pos[1] == answer_pos[1]:\n",
        "        c[\"s3\"] = 1.0\n",
        "    else:\n",
        "        c[\"s3\"] = 0.0\n",
        "    \n",
        "    print(cand_pos, c[\"s3\"])"
      ]
    },
    {
      "cell_type": "markdown",
      "metadata": {
        "id": "0K3l_6jcXARM"
      },
      "source": [
        "### 4.型態相似度(skip!)"
      ]
    },
    {
      "cell_type": "code",
      "execution_count": null,
      "metadata": {
        "colab": {
          "base_uri": "https://localhost:8080/"
        },
        "id": "Ib_5BPNAXJqK",
        "outputId": "115d1444-6d67-4e67-e3e4-a2e297289edb"
      },
      "outputs": [
        {
          "name": "stdout",
          "output_type": "stream",
          "text": [
            "sad 0.6\n",
            "boring 0.8\n",
            "busy 0.8\n",
            "happy 1.0\n",
            "bad 0.6\n",
            "rich 0.8\n",
            "lazy 0.8\n",
            "normal 0.8\n",
            "difficult 0.19999999999999996\n",
            "strange 0.6\n"
          ]
        }
      ],
      "source": [
        "ans_len = len(answer)\n",
        "for c in cs:\n",
        "    dis_len = len(c)\n",
        "    diff = max(1 - (abs(dis_len-ans_len) / ans_len), 0)\n",
        "    print(c, diff)"
      ]
    },
    {
      "cell_type": "markdown",
      "metadata": {
        "id": "xlGFWHIOBA_4"
      },
      "source": [
        "## Ranker"
      ]
    },
    {
      "cell_type": "code",
      "execution_count": 62,
      "metadata": {
        "colab": {
          "base_uri": "https://localhost:8080/"
        },
        "id": "IV1V6Y3Y_8BT",
        "outputId": "04184147-bbd4-4334-bae6-2d711f3ac921"
      },
      "outputs": [
        {
          "data": {
            "text/plain": [
              "[{'word': 'study', 's0': 1.0, 's1': 0.0, 's2': 0.4182635545730591, 's3': 1.0},\n",
              " {'word': 'homework',\n",
              "  's0': 0.3127536197258566,\n",
              "  's1': 0.0,\n",
              "  's2': 0.49113720655441284,\n",
              "  's3': 1.0},\n",
              " {'word': 'work', 's0': 0.24745703209398712, 's1': 0.0, 's2': 0.0, 's3': 1.0},\n",
              " {'word': 'shopping',\n",
              "  's0': 0.23588815703167398,\n",
              "  's1': 0.0,\n",
              "  's2': 0.9515403881669044,\n",
              "  's3': 1.0},\n",
              " {'word': 'school',\n",
              "  's0': 0.06775623952776982,\n",
              "  's1': 0.0,\n",
              "  's2': 0.9228884130716324,\n",
              "  's3': 1.0},\n",
              " {'word': 'holiday',\n",
              "  's0': 0.052086193073900854,\n",
              "  's1': 0.0,\n",
              "  's2': 1.0,\n",
              "  's3': 1.0},\n",
              " {'word': 'class',\n",
              "  's0': 0.027534548120671,\n",
              "  's1': 0.0,\n",
              "  's2': 0.9836011193692684,\n",
              "  's3': 1.0},\n",
              " {'word': 'play',\n",
              "  's0': 0.02238834695526689,\n",
              "  's1': 0.0,\n",
              "  's2': 0.8199071288108826,\n",
              "  's3': 1.0},\n",
              " {'word': 'job',\n",
              "  's0': 0.0017676139972933411,\n",
              "  's1': 0.0,\n",
              "  's2': 0.7108453810214996,\n",
              "  's3': 1.0},\n",
              " {'word': 'exercise',\n",
              "  's0': 0.0,\n",
              "  's1': 0.0,\n",
              "  's2': 0.7445828318595886,\n",
              "  's3': 1.0}]"
            ]
          },
          "execution_count": 62,
          "metadata": {},
          "output_type": "execute_result"
        }
      ],
      "source": [
        "cs"
      ]
    },
    {
      "cell_type": "markdown",
      "metadata": {
        "id": "2oSdNgW0lYZ6"
      },
      "source": [
        "### 加上權重"
      ]
    },
    {
      "cell_type": "code",
      "execution_count": 63,
      "metadata": {
        "id": "9e6onGt5AGho"
      },
      "outputs": [
        {
          "data": {
            "text/plain": [
              "[('study', 0.6045658886432648),\n",
              " ('homework', 0.4509727065700674),\n",
              " ('work', 0.31186425802349677),\n",
              " ('shopping', 0.5468571362996446),\n",
              " ('school', 0.49766116314985054),\n",
              " ('holiday', 0.5130215482684752),\n",
              " ('class', 0.5027839168724848),\n",
              " ('play', 0.4605738689415374),\n",
              " ('job', 0.42815324875469823),\n",
              " ('exercise', 0.43614570796489716)]"
            ]
          },
          "execution_count": 63,
          "metadata": {},
          "output_type": "execute_result"
        }
      ],
      "source": [
        "cs_fs = list()\n",
        "for c in cs:\n",
        "    fs = 0.25*c[\"s0\"] + 0.25*c[\"s1\"] + 0.25*c[\"s2\"] + 0.25*c[\"s3\"]\n",
        "    cs_fs.append((c[\"word\"], fs))\n",
        "\n",
        "cs_fs"
      ]
    },
    {
      "cell_type": "markdown",
      "metadata": {
        "id": "jYNkGFD9lfkG"
      },
      "source": [
        "### 排序"
      ]
    },
    {
      "cell_type": "code",
      "execution_count": 64,
      "metadata": {
        "colab": {
          "base_uri": "https://localhost:8080/"
        },
        "id": "VkdOSg09ApWj",
        "outputId": "2ee08997-d9a1-4d2e-aea0-313b6be19547"
      },
      "outputs": [
        {
          "data": {
            "text/plain": [
              "[('study', 0.6045658886432648),\n",
              " ('shopping', 0.5468571362996446),\n",
              " ('holiday', 0.5130215482684752),\n",
              " ('class', 0.5027839168724848),\n",
              " ('school', 0.49766116314985054),\n",
              " ('play', 0.4605738689415374),\n",
              " ('homework', 0.4509727065700674),\n",
              " ('exercise', 0.43614570796489716),\n",
              " ('job', 0.42815324875469823),\n",
              " ('work', 0.31186425802349677)]"
            ]
          },
          "execution_count": 64,
          "metadata": {},
          "output_type": "execute_result"
        }
      ],
      "source": [
        "cs_fs.sort(key = lambda x: x[1], reverse=True)\n",
        "cs_fs"
      ]
    },
    {
      "cell_type": "markdown",
      "metadata": {
        "id": "XfCp0FkUlwOx"
      },
      "source": [
        "## Distractors"
      ]
    },
    {
      "cell_type": "markdown",
      "metadata": {
        "id": "KGGVfmSKliE8"
      },
      "source": [
        "### Top 3"
      ]
    },
    {
      "cell_type": "code",
      "execution_count": 65,
      "metadata": {
        "colab": {
          "base_uri": "https://localhost:8080/"
        },
        "id": "c1Io7dMTA8IU",
        "outputId": "87521419-8040-4f30-fb7c-7aced24b913a"
      },
      "outputs": [
        {
          "data": {
            "text/plain": [
              "[('study', 0.6045658886432648),\n",
              " ('shopping', 0.5468571362996446),\n",
              " ('holiday', 0.5130215482684752)]"
            ]
          },
          "execution_count": 65,
          "metadata": {},
          "output_type": "execute_result"
        }
      ],
      "source": [
        "distractors = cs_fs[:3]\n",
        "distractors"
      ]
    }
  ],
  "metadata": {
    "accelerator": "GPU",
    "colab": {
      "collapsed_sections": [
        "cKtTacFszaFj",
        "WOZTGiISqiCO",
        "99Mxtt4hgBr2",
        "LzmYNKL_gEjc",
        "0K3l_6jcXARM"
      ],
      "name": "cloze-distractors-generation.ipynb",
      "provenance": [],
      "toc_visible": true
    },
    "kernelspec": {
      "display_name": "Python 3",
      "name": "python3"
    },
    "language_info": {
      "codemirror_mode": {
        "name": "ipython",
        "version": 3
      },
      "file_extension": ".py",
      "mimetype": "text/x-python",
      "name": "python",
      "nbconvert_exporter": "python",
      "pygments_lexer": "ipython3",
      "version": "3.8.8"
    },
    "widgets": {
      "application/vnd.jupyter.widget-state+json": {
        "09d6a08bc4ff4e1c9db722171c092247": {
          "model_module": "@jupyter-widgets/base",
          "model_module_version": "1.2.0",
          "model_name": "LayoutModel",
          "state": {
            "_model_module": "@jupyter-widgets/base",
            "_model_module_version": "1.2.0",
            "_model_name": "LayoutModel",
            "_view_count": null,
            "_view_module": "@jupyter-widgets/base",
            "_view_module_version": "1.2.0",
            "_view_name": "LayoutView",
            "align_content": null,
            "align_items": null,
            "align_self": null,
            "border": null,
            "bottom": null,
            "display": null,
            "flex": null,
            "flex_flow": null,
            "grid_area": null,
            "grid_auto_columns": null,
            "grid_auto_flow": null,
            "grid_auto_rows": null,
            "grid_column": null,
            "grid_gap": null,
            "grid_row": null,
            "grid_template_areas": null,
            "grid_template_columns": null,
            "grid_template_rows": null,
            "height": null,
            "justify_content": null,
            "justify_items": null,
            "left": null,
            "margin": null,
            "max_height": null,
            "max_width": null,
            "min_height": null,
            "min_width": null,
            "object_fit": null,
            "object_position": null,
            "order": null,
            "overflow": null,
            "overflow_x": null,
            "overflow_y": null,
            "padding": null,
            "right": null,
            "top": null,
            "visibility": null,
            "width": null
          }
        },
        "13a6bbca8fe44a96a8265390874d0cc3": {
          "model_module": "@jupyter-widgets/controls",
          "model_module_version": "1.5.0",
          "model_name": "HBoxModel",
          "state": {
            "_dom_classes": [],
            "_model_module": "@jupyter-widgets/controls",
            "_model_module_version": "1.5.0",
            "_model_name": "HBoxModel",
            "_view_count": null,
            "_view_module": "@jupyter-widgets/controls",
            "_view_module_version": "1.5.0",
            "_view_name": "HBoxView",
            "box_style": "",
            "children": [
              "IPY_MODEL_5dfdb6ed6ea04b50b489432798d70555",
              "IPY_MODEL_75c0744f5df244e29dff4a90e3e2460f",
              "IPY_MODEL_394dae1a42dc4de888d898855309eeac"
            ],
            "layout": "IPY_MODEL_760af93c66484f75b5698af259c96d6c"
          }
        },
        "18185801a4184d2fa0f0a3a408ce52f4": {
          "model_module": "@jupyter-widgets/controls",
          "model_module_version": "1.5.0",
          "model_name": "FloatProgressModel",
          "state": {
            "_dom_classes": [],
            "_model_module": "@jupyter-widgets/controls",
            "_model_module_version": "1.5.0",
            "_model_name": "FloatProgressModel",
            "_view_count": null,
            "_view_module": "@jupyter-widgets/controls",
            "_view_module_version": "1.5.0",
            "_view_name": "ProgressView",
            "bar_style": "success",
            "description": "",
            "description_tooltip": null,
            "layout": "IPY_MODEL_b200f61879354d4780955f0c70415fd6",
            "max": 570,
            "min": 0,
            "orientation": "horizontal",
            "style": "IPY_MODEL_c2fc82e1756b4d06bb62b0403e7ccfee",
            "value": 570
          }
        },
        "265b43d0e7134abbacb8693a2c6387da": {
          "model_module": "@jupyter-widgets/controls",
          "model_module_version": "1.5.0",
          "model_name": "ProgressStyleModel",
          "state": {
            "_model_module": "@jupyter-widgets/controls",
            "_model_module_version": "1.5.0",
            "_model_name": "ProgressStyleModel",
            "_view_count": null,
            "_view_module": "@jupyter-widgets/base",
            "_view_module_version": "1.2.0",
            "_view_name": "StyleView",
            "bar_color": null,
            "description_width": ""
          }
        },
        "317ed13a365d432f9024d60a0db890c5": {
          "model_module": "@jupyter-widgets/base",
          "model_module_version": "1.2.0",
          "model_name": "LayoutModel",
          "state": {
            "_model_module": "@jupyter-widgets/base",
            "_model_module_version": "1.2.0",
            "_model_name": "LayoutModel",
            "_view_count": null,
            "_view_module": "@jupyter-widgets/base",
            "_view_module_version": "1.2.0",
            "_view_name": "LayoutView",
            "align_content": null,
            "align_items": null,
            "align_self": null,
            "border": null,
            "bottom": null,
            "display": null,
            "flex": null,
            "flex_flow": null,
            "grid_area": null,
            "grid_auto_columns": null,
            "grid_auto_flow": null,
            "grid_auto_rows": null,
            "grid_column": null,
            "grid_gap": null,
            "grid_row": null,
            "grid_template_areas": null,
            "grid_template_columns": null,
            "grid_template_rows": null,
            "height": null,
            "justify_content": null,
            "justify_items": null,
            "left": null,
            "margin": null,
            "max_height": null,
            "max_width": null,
            "min_height": null,
            "min_width": null,
            "object_fit": null,
            "object_position": null,
            "order": null,
            "overflow": null,
            "overflow_x": null,
            "overflow_y": null,
            "padding": null,
            "right": null,
            "top": null,
            "visibility": null,
            "width": null
          }
        },
        "394dae1a42dc4de888d898855309eeac": {
          "model_module": "@jupyter-widgets/controls",
          "model_module_version": "1.5.0",
          "model_name": "HTMLModel",
          "state": {
            "_dom_classes": [],
            "_model_module": "@jupyter-widgets/controls",
            "_model_module_version": "1.5.0",
            "_model_name": "HTMLModel",
            "_view_count": null,
            "_view_module": "@jupyter-widgets/controls",
            "_view_module_version": "1.5.0",
            "_view_name": "HTMLView",
            "description": "",
            "description_tooltip": null,
            "layout": "IPY_MODEL_e44caa4f83594150a69110c5c9612706",
            "placeholder": "​",
            "style": "IPY_MODEL_765099c25ee64eafaab26ae21534417d",
            "value": " 226k/226k [00:00&lt;00:00, 1.00MB/s]"
          }
        },
        "45088d1a68024956869c026c57f7595d": {
          "model_module": "@jupyter-widgets/base",
          "model_module_version": "1.2.0",
          "model_name": "LayoutModel",
          "state": {
            "_model_module": "@jupyter-widgets/base",
            "_model_module_version": "1.2.0",
            "_model_name": "LayoutModel",
            "_view_count": null,
            "_view_module": "@jupyter-widgets/base",
            "_view_module_version": "1.2.0",
            "_view_name": "LayoutView",
            "align_content": null,
            "align_items": null,
            "align_self": null,
            "border": null,
            "bottom": null,
            "display": null,
            "flex": null,
            "flex_flow": null,
            "grid_area": null,
            "grid_auto_columns": null,
            "grid_auto_flow": null,
            "grid_auto_rows": null,
            "grid_column": null,
            "grid_gap": null,
            "grid_row": null,
            "grid_template_areas": null,
            "grid_template_columns": null,
            "grid_template_rows": null,
            "height": null,
            "justify_content": null,
            "justify_items": null,
            "left": null,
            "margin": null,
            "max_height": null,
            "max_width": null,
            "min_height": null,
            "min_width": null,
            "object_fit": null,
            "object_position": null,
            "order": null,
            "overflow": null,
            "overflow_x": null,
            "overflow_y": null,
            "padding": null,
            "right": null,
            "top": null,
            "visibility": null,
            "width": null
          }
        },
        "4a0dd0b2bb074f23a6d2b634a134c233": {
          "model_module": "@jupyter-widgets/controls",
          "model_module_version": "1.5.0",
          "model_name": "HTMLModel",
          "state": {
            "_dom_classes": [],
            "_model_module": "@jupyter-widgets/controls",
            "_model_module_version": "1.5.0",
            "_model_name": "HTMLModel",
            "_view_count": null,
            "_view_module": "@jupyter-widgets/controls",
            "_view_module_version": "1.5.0",
            "_view_name": "HTMLView",
            "description": "",
            "description_tooltip": null,
            "layout": "IPY_MODEL_b43c1f52f2dd497c8e8de5d46e1b2e99",
            "placeholder": "​",
            "style": "IPY_MODEL_869b00af41184c5f842f2630ea28cf2a",
            "value": " 28.0/28.0 [00:00&lt;00:00, 167B/s]"
          }
        },
        "4cc0a6159ee4424abdc2d7470bfa2bee": {
          "model_module": "@jupyter-widgets/controls",
          "model_module_version": "1.5.0",
          "model_name": "DescriptionStyleModel",
          "state": {
            "_model_module": "@jupyter-widgets/controls",
            "_model_module_version": "1.5.0",
            "_model_name": "DescriptionStyleModel",
            "_view_count": null,
            "_view_module": "@jupyter-widgets/base",
            "_view_module_version": "1.2.0",
            "_view_name": "StyleView",
            "description_width": ""
          }
        },
        "57419a3899a24cad8bb50ff3abd53eea": {
          "model_module": "@jupyter-widgets/controls",
          "model_module_version": "1.5.0",
          "model_name": "DescriptionStyleModel",
          "state": {
            "_model_module": "@jupyter-widgets/controls",
            "_model_module_version": "1.5.0",
            "_model_name": "DescriptionStyleModel",
            "_view_count": null,
            "_view_module": "@jupyter-widgets/base",
            "_view_module_version": "1.2.0",
            "_view_name": "StyleView",
            "description_width": ""
          }
        },
        "5dfdb6ed6ea04b50b489432798d70555": {
          "model_module": "@jupyter-widgets/controls",
          "model_module_version": "1.5.0",
          "model_name": "HTMLModel",
          "state": {
            "_dom_classes": [],
            "_model_module": "@jupyter-widgets/controls",
            "_model_module_version": "1.5.0",
            "_model_name": "HTMLModel",
            "_view_count": null,
            "_view_module": "@jupyter-widgets/controls",
            "_view_module_version": "1.5.0",
            "_view_name": "HTMLView",
            "description": "",
            "description_tooltip": null,
            "layout": "IPY_MODEL_09d6a08bc4ff4e1c9db722171c092247",
            "placeholder": "​",
            "style": "IPY_MODEL_9df003cfce844e629fcb9a149d735731",
            "value": "Downloading: 100%"
          }
        },
        "604d98e8d1994ed7a7ab31f15e572cce": {
          "model_module": "@jupyter-widgets/controls",
          "model_module_version": "1.5.0",
          "model_name": "HBoxModel",
          "state": {
            "_dom_classes": [],
            "_model_module": "@jupyter-widgets/controls",
            "_model_module_version": "1.5.0",
            "_model_name": "HBoxModel",
            "_view_count": null,
            "_view_module": "@jupyter-widgets/controls",
            "_view_module_version": "1.5.0",
            "_view_name": "HBoxView",
            "box_style": "",
            "children": [
              "IPY_MODEL_723dbc96fab04b9a94d6b8ba4cc96f74",
              "IPY_MODEL_b88dea4099cc4d43a8b8315fe9bc8eb3",
              "IPY_MODEL_4a0dd0b2bb074f23a6d2b634a134c233"
            ],
            "layout": "IPY_MODEL_d54d9712c56f4fbf9b08fa9222bb1ea9"
          }
        },
        "68edf999a09e4bffae1260c31bd7a9bc": {
          "model_module": "@jupyter-widgets/controls",
          "model_module_version": "1.5.0",
          "model_name": "ProgressStyleModel",
          "state": {
            "_model_module": "@jupyter-widgets/controls",
            "_model_module_version": "1.5.0",
            "_model_name": "ProgressStyleModel",
            "_view_count": null,
            "_view_module": "@jupyter-widgets/base",
            "_view_module_version": "1.2.0",
            "_view_name": "StyleView",
            "bar_color": null,
            "description_width": ""
          }
        },
        "723dbc96fab04b9a94d6b8ba4cc96f74": {
          "model_module": "@jupyter-widgets/controls",
          "model_module_version": "1.5.0",
          "model_name": "HTMLModel",
          "state": {
            "_dom_classes": [],
            "_model_module": "@jupyter-widgets/controls",
            "_model_module_version": "1.5.0",
            "_model_name": "HTMLModel",
            "_view_count": null,
            "_view_module": "@jupyter-widgets/controls",
            "_view_module_version": "1.5.0",
            "_view_name": "HTMLView",
            "description": "",
            "description_tooltip": null,
            "layout": "IPY_MODEL_94c5ecd282a74afdbf0539d8f717ea5c",
            "placeholder": "​",
            "style": "IPY_MODEL_d3422d6801414024a0f8f7a65548d2b9",
            "value": "Downloading: 100%"
          }
        },
        "75c0744f5df244e29dff4a90e3e2460f": {
          "model_module": "@jupyter-widgets/controls",
          "model_module_version": "1.5.0",
          "model_name": "FloatProgressModel",
          "state": {
            "_dom_classes": [],
            "_model_module": "@jupyter-widgets/controls",
            "_model_module_version": "1.5.0",
            "_model_name": "FloatProgressModel",
            "_view_count": null,
            "_view_module": "@jupyter-widgets/controls",
            "_view_module_version": "1.5.0",
            "_view_name": "ProgressView",
            "bar_style": "success",
            "description": "",
            "description_tooltip": null,
            "layout": "IPY_MODEL_d1cbd3beb71a4903b30573e9dd8c3554",
            "max": 231508,
            "min": 0,
            "orientation": "horizontal",
            "style": "IPY_MODEL_265b43d0e7134abbacb8693a2c6387da",
            "value": 231508
          }
        },
        "760af93c66484f75b5698af259c96d6c": {
          "model_module": "@jupyter-widgets/base",
          "model_module_version": "1.2.0",
          "model_name": "LayoutModel",
          "state": {
            "_model_module": "@jupyter-widgets/base",
            "_model_module_version": "1.2.0",
            "_model_name": "LayoutModel",
            "_view_count": null,
            "_view_module": "@jupyter-widgets/base",
            "_view_module_version": "1.2.0",
            "_view_name": "LayoutView",
            "align_content": null,
            "align_items": null,
            "align_self": null,
            "border": null,
            "bottom": null,
            "display": null,
            "flex": null,
            "flex_flow": null,
            "grid_area": null,
            "grid_auto_columns": null,
            "grid_auto_flow": null,
            "grid_auto_rows": null,
            "grid_column": null,
            "grid_gap": null,
            "grid_row": null,
            "grid_template_areas": null,
            "grid_template_columns": null,
            "grid_template_rows": null,
            "height": null,
            "justify_content": null,
            "justify_items": null,
            "left": null,
            "margin": null,
            "max_height": null,
            "max_width": null,
            "min_height": null,
            "min_width": null,
            "object_fit": null,
            "object_position": null,
            "order": null,
            "overflow": null,
            "overflow_x": null,
            "overflow_y": null,
            "padding": null,
            "right": null,
            "top": null,
            "visibility": null,
            "width": null
          }
        },
        "765099c25ee64eafaab26ae21534417d": {
          "model_module": "@jupyter-widgets/controls",
          "model_module_version": "1.5.0",
          "model_name": "DescriptionStyleModel",
          "state": {
            "_model_module": "@jupyter-widgets/controls",
            "_model_module_version": "1.5.0",
            "_model_name": "DescriptionStyleModel",
            "_view_count": null,
            "_view_module": "@jupyter-widgets/base",
            "_view_module_version": "1.2.0",
            "_view_name": "StyleView",
            "description_width": ""
          }
        },
        "862da95861ce4610a5e6299be33cddce": {
          "model_module": "@jupyter-widgets/controls",
          "model_module_version": "1.5.0",
          "model_name": "HTMLModel",
          "state": {
            "_dom_classes": [],
            "_model_module": "@jupyter-widgets/controls",
            "_model_module_version": "1.5.0",
            "_model_name": "HTMLModel",
            "_view_count": null,
            "_view_module": "@jupyter-widgets/controls",
            "_view_module_version": "1.5.0",
            "_view_name": "HTMLView",
            "description": "",
            "description_tooltip": null,
            "layout": "IPY_MODEL_317ed13a365d432f9024d60a0db890c5",
            "placeholder": "​",
            "style": "IPY_MODEL_57419a3899a24cad8bb50ff3abd53eea",
            "value": " 570/570 [00:00&lt;00:00, 4.03kB/s]"
          }
        },
        "869b00af41184c5f842f2630ea28cf2a": {
          "model_module": "@jupyter-widgets/controls",
          "model_module_version": "1.5.0",
          "model_name": "DescriptionStyleModel",
          "state": {
            "_model_module": "@jupyter-widgets/controls",
            "_model_module_version": "1.5.0",
            "_model_name": "DescriptionStyleModel",
            "_view_count": null,
            "_view_module": "@jupyter-widgets/base",
            "_view_module_version": "1.2.0",
            "_view_name": "StyleView",
            "description_width": ""
          }
        },
        "94c5ecd282a74afdbf0539d8f717ea5c": {
          "model_module": "@jupyter-widgets/base",
          "model_module_version": "1.2.0",
          "model_name": "LayoutModel",
          "state": {
            "_model_module": "@jupyter-widgets/base",
            "_model_module_version": "1.2.0",
            "_model_name": "LayoutModel",
            "_view_count": null,
            "_view_module": "@jupyter-widgets/base",
            "_view_module_version": "1.2.0",
            "_view_name": "LayoutView",
            "align_content": null,
            "align_items": null,
            "align_self": null,
            "border": null,
            "bottom": null,
            "display": null,
            "flex": null,
            "flex_flow": null,
            "grid_area": null,
            "grid_auto_columns": null,
            "grid_auto_flow": null,
            "grid_auto_rows": null,
            "grid_column": null,
            "grid_gap": null,
            "grid_row": null,
            "grid_template_areas": null,
            "grid_template_columns": null,
            "grid_template_rows": null,
            "height": null,
            "justify_content": null,
            "justify_items": null,
            "left": null,
            "margin": null,
            "max_height": null,
            "max_width": null,
            "min_height": null,
            "min_width": null,
            "object_fit": null,
            "object_position": null,
            "order": null,
            "overflow": null,
            "overflow_x": null,
            "overflow_y": null,
            "padding": null,
            "right": null,
            "top": null,
            "visibility": null,
            "width": null
          }
        },
        "971ebe8183e74dd5afe9e669436d8827": {
          "model_module": "@jupyter-widgets/controls",
          "model_module_version": "1.5.0",
          "model_name": "HTMLModel",
          "state": {
            "_dom_classes": [],
            "_model_module": "@jupyter-widgets/controls",
            "_model_module_version": "1.5.0",
            "_model_name": "HTMLModel",
            "_view_count": null,
            "_view_module": "@jupyter-widgets/controls",
            "_view_module_version": "1.5.0",
            "_view_name": "HTMLView",
            "description": "",
            "description_tooltip": null,
            "layout": "IPY_MODEL_bd1bd2cd6d8542f9bb724bbe4decc662",
            "placeholder": "​",
            "style": "IPY_MODEL_4cc0a6159ee4424abdc2d7470bfa2bee",
            "value": "Downloading: 100%"
          }
        },
        "9df003cfce844e629fcb9a149d735731": {
          "model_module": "@jupyter-widgets/controls",
          "model_module_version": "1.5.0",
          "model_name": "DescriptionStyleModel",
          "state": {
            "_model_module": "@jupyter-widgets/controls",
            "_model_module_version": "1.5.0",
            "_model_name": "DescriptionStyleModel",
            "_view_count": null,
            "_view_module": "@jupyter-widgets/base",
            "_view_module_version": "1.2.0",
            "_view_name": "StyleView",
            "description_width": ""
          }
        },
        "b200f61879354d4780955f0c70415fd6": {
          "model_module": "@jupyter-widgets/base",
          "model_module_version": "1.2.0",
          "model_name": "LayoutModel",
          "state": {
            "_model_module": "@jupyter-widgets/base",
            "_model_module_version": "1.2.0",
            "_model_name": "LayoutModel",
            "_view_count": null,
            "_view_module": "@jupyter-widgets/base",
            "_view_module_version": "1.2.0",
            "_view_name": "LayoutView",
            "align_content": null,
            "align_items": null,
            "align_self": null,
            "border": null,
            "bottom": null,
            "display": null,
            "flex": null,
            "flex_flow": null,
            "grid_area": null,
            "grid_auto_columns": null,
            "grid_auto_flow": null,
            "grid_auto_rows": null,
            "grid_column": null,
            "grid_gap": null,
            "grid_row": null,
            "grid_template_areas": null,
            "grid_template_columns": null,
            "grid_template_rows": null,
            "height": null,
            "justify_content": null,
            "justify_items": null,
            "left": null,
            "margin": null,
            "max_height": null,
            "max_width": null,
            "min_height": null,
            "min_width": null,
            "object_fit": null,
            "object_position": null,
            "order": null,
            "overflow": null,
            "overflow_x": null,
            "overflow_y": null,
            "padding": null,
            "right": null,
            "top": null,
            "visibility": null,
            "width": null
          }
        },
        "b43c1f52f2dd497c8e8de5d46e1b2e99": {
          "model_module": "@jupyter-widgets/base",
          "model_module_version": "1.2.0",
          "model_name": "LayoutModel",
          "state": {
            "_model_module": "@jupyter-widgets/base",
            "_model_module_version": "1.2.0",
            "_model_name": "LayoutModel",
            "_view_count": null,
            "_view_module": "@jupyter-widgets/base",
            "_view_module_version": "1.2.0",
            "_view_name": "LayoutView",
            "align_content": null,
            "align_items": null,
            "align_self": null,
            "border": null,
            "bottom": null,
            "display": null,
            "flex": null,
            "flex_flow": null,
            "grid_area": null,
            "grid_auto_columns": null,
            "grid_auto_flow": null,
            "grid_auto_rows": null,
            "grid_column": null,
            "grid_gap": null,
            "grid_row": null,
            "grid_template_areas": null,
            "grid_template_columns": null,
            "grid_template_rows": null,
            "height": null,
            "justify_content": null,
            "justify_items": null,
            "left": null,
            "margin": null,
            "max_height": null,
            "max_width": null,
            "min_height": null,
            "min_width": null,
            "object_fit": null,
            "object_position": null,
            "order": null,
            "overflow": null,
            "overflow_x": null,
            "overflow_y": null,
            "padding": null,
            "right": null,
            "top": null,
            "visibility": null,
            "width": null
          }
        },
        "b7410d9320be4d0cab120d1cbcf53d2f": {
          "model_module": "@jupyter-widgets/base",
          "model_module_version": "1.2.0",
          "model_name": "LayoutModel",
          "state": {
            "_model_module": "@jupyter-widgets/base",
            "_model_module_version": "1.2.0",
            "_model_name": "LayoutModel",
            "_view_count": null,
            "_view_module": "@jupyter-widgets/base",
            "_view_module_version": "1.2.0",
            "_view_name": "LayoutView",
            "align_content": null,
            "align_items": null,
            "align_self": null,
            "border": null,
            "bottom": null,
            "display": null,
            "flex": null,
            "flex_flow": null,
            "grid_area": null,
            "grid_auto_columns": null,
            "grid_auto_flow": null,
            "grid_auto_rows": null,
            "grid_column": null,
            "grid_gap": null,
            "grid_row": null,
            "grid_template_areas": null,
            "grid_template_columns": null,
            "grid_template_rows": null,
            "height": null,
            "justify_content": null,
            "justify_items": null,
            "left": null,
            "margin": null,
            "max_height": null,
            "max_width": null,
            "min_height": null,
            "min_width": null,
            "object_fit": null,
            "object_position": null,
            "order": null,
            "overflow": null,
            "overflow_x": null,
            "overflow_y": null,
            "padding": null,
            "right": null,
            "top": null,
            "visibility": null,
            "width": null
          }
        },
        "b88dea4099cc4d43a8b8315fe9bc8eb3": {
          "model_module": "@jupyter-widgets/controls",
          "model_module_version": "1.5.0",
          "model_name": "FloatProgressModel",
          "state": {
            "_dom_classes": [],
            "_model_module": "@jupyter-widgets/controls",
            "_model_module_version": "1.5.0",
            "_model_name": "FloatProgressModel",
            "_view_count": null,
            "_view_module": "@jupyter-widgets/controls",
            "_view_module_version": "1.5.0",
            "_view_name": "ProgressView",
            "bar_style": "success",
            "description": "",
            "description_tooltip": null,
            "layout": "IPY_MODEL_45088d1a68024956869c026c57f7595d",
            "max": 28,
            "min": 0,
            "orientation": "horizontal",
            "style": "IPY_MODEL_68edf999a09e4bffae1260c31bd7a9bc",
            "value": 28
          }
        },
        "bd1bd2cd6d8542f9bb724bbe4decc662": {
          "model_module": "@jupyter-widgets/base",
          "model_module_version": "1.2.0",
          "model_name": "LayoutModel",
          "state": {
            "_model_module": "@jupyter-widgets/base",
            "_model_module_version": "1.2.0",
            "_model_name": "LayoutModel",
            "_view_count": null,
            "_view_module": "@jupyter-widgets/base",
            "_view_module_version": "1.2.0",
            "_view_name": "LayoutView",
            "align_content": null,
            "align_items": null,
            "align_self": null,
            "border": null,
            "bottom": null,
            "display": null,
            "flex": null,
            "flex_flow": null,
            "grid_area": null,
            "grid_auto_columns": null,
            "grid_auto_flow": null,
            "grid_auto_rows": null,
            "grid_column": null,
            "grid_gap": null,
            "grid_row": null,
            "grid_template_areas": null,
            "grid_template_columns": null,
            "grid_template_rows": null,
            "height": null,
            "justify_content": null,
            "justify_items": null,
            "left": null,
            "margin": null,
            "max_height": null,
            "max_width": null,
            "min_height": null,
            "min_width": null,
            "object_fit": null,
            "object_position": null,
            "order": null,
            "overflow": null,
            "overflow_x": null,
            "overflow_y": null,
            "padding": null,
            "right": null,
            "top": null,
            "visibility": null,
            "width": null
          }
        },
        "c2fc82e1756b4d06bb62b0403e7ccfee": {
          "model_module": "@jupyter-widgets/controls",
          "model_module_version": "1.5.0",
          "model_name": "ProgressStyleModel",
          "state": {
            "_model_module": "@jupyter-widgets/controls",
            "_model_module_version": "1.5.0",
            "_model_name": "ProgressStyleModel",
            "_view_count": null,
            "_view_module": "@jupyter-widgets/base",
            "_view_module_version": "1.2.0",
            "_view_name": "StyleView",
            "bar_color": null,
            "description_width": ""
          }
        },
        "d17c9387fcbd40408a8da94e14dc15e6": {
          "model_module": "@jupyter-widgets/controls",
          "model_module_version": "1.5.0",
          "model_name": "HBoxModel",
          "state": {
            "_dom_classes": [],
            "_model_module": "@jupyter-widgets/controls",
            "_model_module_version": "1.5.0",
            "_model_name": "HBoxModel",
            "_view_count": null,
            "_view_module": "@jupyter-widgets/controls",
            "_view_module_version": "1.5.0",
            "_view_name": "HBoxView",
            "box_style": "",
            "children": [
              "IPY_MODEL_971ebe8183e74dd5afe9e669436d8827",
              "IPY_MODEL_18185801a4184d2fa0f0a3a408ce52f4",
              "IPY_MODEL_862da95861ce4610a5e6299be33cddce"
            ],
            "layout": "IPY_MODEL_b7410d9320be4d0cab120d1cbcf53d2f"
          }
        },
        "d1cbd3beb71a4903b30573e9dd8c3554": {
          "model_module": "@jupyter-widgets/base",
          "model_module_version": "1.2.0",
          "model_name": "LayoutModel",
          "state": {
            "_model_module": "@jupyter-widgets/base",
            "_model_module_version": "1.2.0",
            "_model_name": "LayoutModel",
            "_view_count": null,
            "_view_module": "@jupyter-widgets/base",
            "_view_module_version": "1.2.0",
            "_view_name": "LayoutView",
            "align_content": null,
            "align_items": null,
            "align_self": null,
            "border": null,
            "bottom": null,
            "display": null,
            "flex": null,
            "flex_flow": null,
            "grid_area": null,
            "grid_auto_columns": null,
            "grid_auto_flow": null,
            "grid_auto_rows": null,
            "grid_column": null,
            "grid_gap": null,
            "grid_row": null,
            "grid_template_areas": null,
            "grid_template_columns": null,
            "grid_template_rows": null,
            "height": null,
            "justify_content": null,
            "justify_items": null,
            "left": null,
            "margin": null,
            "max_height": null,
            "max_width": null,
            "min_height": null,
            "min_width": null,
            "object_fit": null,
            "object_position": null,
            "order": null,
            "overflow": null,
            "overflow_x": null,
            "overflow_y": null,
            "padding": null,
            "right": null,
            "top": null,
            "visibility": null,
            "width": null
          }
        },
        "d3422d6801414024a0f8f7a65548d2b9": {
          "model_module": "@jupyter-widgets/controls",
          "model_module_version": "1.5.0",
          "model_name": "DescriptionStyleModel",
          "state": {
            "_model_module": "@jupyter-widgets/controls",
            "_model_module_version": "1.5.0",
            "_model_name": "DescriptionStyleModel",
            "_view_count": null,
            "_view_module": "@jupyter-widgets/base",
            "_view_module_version": "1.2.0",
            "_view_name": "StyleView",
            "description_width": ""
          }
        },
        "d54d9712c56f4fbf9b08fa9222bb1ea9": {
          "model_module": "@jupyter-widgets/base",
          "model_module_version": "1.2.0",
          "model_name": "LayoutModel",
          "state": {
            "_model_module": "@jupyter-widgets/base",
            "_model_module_version": "1.2.0",
            "_model_name": "LayoutModel",
            "_view_count": null,
            "_view_module": "@jupyter-widgets/base",
            "_view_module_version": "1.2.0",
            "_view_name": "LayoutView",
            "align_content": null,
            "align_items": null,
            "align_self": null,
            "border": null,
            "bottom": null,
            "display": null,
            "flex": null,
            "flex_flow": null,
            "grid_area": null,
            "grid_auto_columns": null,
            "grid_auto_flow": null,
            "grid_auto_rows": null,
            "grid_column": null,
            "grid_gap": null,
            "grid_row": null,
            "grid_template_areas": null,
            "grid_template_columns": null,
            "grid_template_rows": null,
            "height": null,
            "justify_content": null,
            "justify_items": null,
            "left": null,
            "margin": null,
            "max_height": null,
            "max_width": null,
            "min_height": null,
            "min_width": null,
            "object_fit": null,
            "object_position": null,
            "order": null,
            "overflow": null,
            "overflow_x": null,
            "overflow_y": null,
            "padding": null,
            "right": null,
            "top": null,
            "visibility": null,
            "width": null
          }
        },
        "e44caa4f83594150a69110c5c9612706": {
          "model_module": "@jupyter-widgets/base",
          "model_module_version": "1.2.0",
          "model_name": "LayoutModel",
          "state": {
            "_model_module": "@jupyter-widgets/base",
            "_model_module_version": "1.2.0",
            "_model_name": "LayoutModel",
            "_view_count": null,
            "_view_module": "@jupyter-widgets/base",
            "_view_module_version": "1.2.0",
            "_view_name": "LayoutView",
            "align_content": null,
            "align_items": null,
            "align_self": null,
            "border": null,
            "bottom": null,
            "display": null,
            "flex": null,
            "flex_flow": null,
            "grid_area": null,
            "grid_auto_columns": null,
            "grid_auto_flow": null,
            "grid_auto_rows": null,
            "grid_column": null,
            "grid_gap": null,
            "grid_row": null,
            "grid_template_areas": null,
            "grid_template_columns": null,
            "grid_template_rows": null,
            "height": null,
            "justify_content": null,
            "justify_items": null,
            "left": null,
            "margin": null,
            "max_height": null,
            "max_width": null,
            "min_height": null,
            "min_width": null,
            "object_fit": null,
            "object_position": null,
            "order": null,
            "overflow": null,
            "overflow_x": null,
            "overflow_y": null,
            "padding": null,
            "right": null,
            "top": null,
            "visibility": null,
            "width": null
          }
        }
      }
    }
  },
  "nbformat": 4,
  "nbformat_minor": 0
}
